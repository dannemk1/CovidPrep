{
 "cells": [
  {
   "cell_type": "markdown",
   "metadata": {},
   "source": [
    "## Analyzing Coronavirus Evolution in Denmark and the United States: A Comparative Study of a Socialized Democratic and a Capitalistic Society\n",
    "#### Kate Dannemiller\n",
    "#### Denison University Data Analytics \n",
    "#### December 2020"
   ]
  },
  {
   "cell_type": "code",
   "execution_count": 1,
   "metadata": {},
   "outputs": [],
   "source": [
    "import pandas as pd\n",
    "import matplotlib.pyplot as plt\n",
    "import datetime\n",
    "import numpy as np\n",
    "from scipy import stats\n",
    "import warnings\n",
    "warnings.filterwarnings(\"ignore\")"
   ]
  },
  {
   "cell_type": "markdown",
   "metadata": {},
   "source": [
    "### 1. Data: Economic, Governmental and Social Data\n",
    "#### Reading in the data"
   ]
  },
  {
   "cell_type": "code",
   "execution_count": 2,
   "metadata": {},
   "outputs": [],
   "source": [
    "#Global Economic Monitors\n",
    "us_GEM = pd.read_excel('DataExtracts/Global_Economic_Monitor.xlsx', sheet_name = 'USA')\n",
    "dk_GEM = pd.read_excel('DataExtracts/Global_Economic_Monitor.xlsx', sheet_name = 'DK')\n",
    "META_GEM = pd.read_excel('DataExtracts/Global_Economic_Monitor.xlsx', sheet_name = 'Series - Metadata')\n",
    "\n",
    "#Worldwide Governance Indciators\n",
    "us_WGI = pd.read_excel('DataExtracts/Worldwide_Governance_Indicators.xlsx', sheet_name = 'US')\n",
    "dk_WGI = pd.read_excel('DataExtracts/Worldwide_Governance_Indicators.xlsx', sheet_name = 'DK')\n",
    "META_WGI = pd.read_excel('DataExtracts/Worldwide_Governance_Indicators.xlsx', sheet_name = 'Series - Metadata')\n",
    "\n",
    "#World Development Indicators \n",
    "us_WDI = pd.read_excel('DataExtracts/World_Development_Indicators.xlsx', sheet_name = 'US')\n",
    "dk_WDI = pd.read_excel('DataExtracts/World_Development_Indicators.xlsx', sheet_name = 'DK')\n",
    "META_WDI = pd.read_excel('DataExtracts/World_Development_Indicators.xlsx', sheet_name = 'Series - Metadata')\n",
    "\n",
    "#Poverty and Equity\n",
    "us_PE = pd.read_excel('DataExtracts/Poverty_and_Equity.xlsx', sheet_name = 'US')\n",
    "dk_PE = pd.read_excel('DataExtracts/Poverty_and_Equity.xlsx', sheet_name = 'DK')\n",
    "META_PE = pd.read_excel('DataExtracts/Poverty_and_Equity.xlsx', sheet_name = 'Series - Metadata')\n",
    "\n",
    "#Health Nutrition and Population Statistics \n",
    "us_HNP = pd.read_excel('DataExtracts/Health_Nutrition_and_Population.xlsx', sheet_name = 'US')\n",
    "dk_HNP = pd.read_excel('DataExtracts/Health_Nutrition_and_Population.xlsx', sheet_name = 'DK')\n",
    "META_HNP = pd.read_excel('DataExtracts/Health_Nutrition_and_Population.xlsx', sheet_name = 'Series - Metadata')\n",
    "\n",
    "#Education Statistics\n",
    "us_ES = pd.read_excel('DataExtracts/Education_Statistics.xlsx', sheet_name = 'US')\n",
    "dk_ES = pd.read_excel('DataExtracts/Education_Statistics.xlsx', sheet_name = 'DK')\n",
    "META_ES = pd.read_excel('DataExtracts/Education_Statistics.xlsx', sheet_name = 'Series - Metadata')"
   ]
  },
  {
   "cell_type": "markdown",
   "metadata": {},
   "source": [
    "#### Additional cleaning and table creation"
   ]
  },
  {
   "cell_type": "code",
   "execution_count": 3,
   "metadata": {},
   "outputs": [],
   "source": [
    "us_GEM = us_GEM.rename(columns = {'Series Code': 'Code'})\n",
    "dk_GEM = dk_GEM.rename(columns = {'Series Code': 'Code'})\n",
    "\n",
    "us_WGI = us_WGI.rename(columns = {'Series Code': 'Code'})\n",
    "dk_WGI = dk_WGI.rename(columns = {'Series Code': 'Code'})\n",
    "\n",
    "us_WDI = us_WDI.rename(columns = {'Series Code': 'Code'})\n",
    "dk_WDI = dk_WDI.rename(columns = {'Series Code': 'Code'})\n",
    "\n",
    "us_PE = us_PE.rename(columns = {'Series Code': 'Code'})\n",
    "dk_PE = dk_PE.rename(columns = {'Series Code': 'Code'})\n",
    "\n",
    "us_HNP = us_HNP.rename(columns = {'Series Code': 'Code'})\n",
    "dk_HNP = dk_HNP.rename(columns = {'Series Code': 'Code'})\n",
    "\n",
    "us_ES = us_ES.rename(columns = {'Series Code': 'Code'})\n",
    "dk_ES = dk_ES.rename(columns = {'Series Code': 'Code'})"
   ]
  },
  {
   "cell_type": "code",
   "execution_count": 4,
   "metadata": {},
   "outputs": [],
   "source": [
    "#Narrowing down variable selection. Data is from 2017\n",
    "\n",
    "us_GEM_simple = us_GEM.iloc[[1,10,13],[0,1,2,5]]\n",
    "dk_GEM_simple = dk_GEM.iloc[[1,10,13],[0,1,2,5]]\n",
    "\n",
    "us_GEM_simple = us_GEM_simple.rename(columns = {2017: 'US Value','Series':'Series Name'})\n",
    "dk_GEM_simple = dk_GEM_simple.rename(columns = {2017: 'DK Value','Series':'Series Name'})\n",
    "\n",
    "us_GEM_simple.reset_index(inplace = True)\n",
    "dk_GEM_simple.reset_index(inplace = True)"
   ]
  },
  {
   "cell_type": "code",
   "execution_count": 5,
   "metadata": {},
   "outputs": [],
   "source": [
    "#Narrowing down variable selection. Data is from 2017\n",
    "\n",
    "us_WGI_simple = us_WGI.iloc[[0,2,4,8,10],[0,1,2,5]]\n",
    "dk_WGI_simple = dk_WGI.iloc[[0,2,4,8,10],[0,1,2,5]]\n",
    "\n",
    "us_WGI_simple = us_WGI_simple.rename(columns = {2017: 'US Value'})\n",
    "dk_WGI_simple = dk_WGI_simple.rename(columns = {2017: 'DK Value'})\n",
    "\n",
    "us_WGI_simple.reset_index(inplace = True)\n",
    "dk_WGI_simple.reset_index(inplace = True)"
   ]
  },
  {
   "cell_type": "code",
   "execution_count": 6,
   "metadata": {},
   "outputs": [],
   "source": [
    "#Narrowing down variable selection. Data is from 2017\n",
    "\n",
    "us_WDI_simple = us_WDI.iloc[[3,5,6,8,11],[0,1,2,5]]\n",
    "dk_WDI_simple = dk_WDI.iloc[[3,5,6,8,11],[0,1,2,5]]\n",
    "\n",
    "us_WDI_simple = us_WDI_simple.rename(columns = {2017: 'US Value'})\n",
    "dk_WDI_simple = dk_WDI_simple.rename(columns = {2017: 'DK Value'})\n",
    "\n",
    "us_WDI_simple.reset_index(inplace = True)\n",
    "dk_WDI_simple.reset_index(inplace = True)"
   ]
  },
  {
   "cell_type": "code",
   "execution_count": 7,
   "metadata": {},
   "outputs": [],
   "source": [
    "#Narrowing down variable selection. Data is from 2015 (US) and 2017 (DK)\n",
    "\n",
    "us_PE_simple = us_PE.iloc[[0,2,3]] #2015\n",
    "dk_PE_simple = dk_PE.iloc[[0,2,3]] #2017\n",
    "\n",
    "us_PE_simple = us_PE_simple.rename(columns = {2015: 'US Value'})\n",
    "dk_PE_simple = dk_PE_simple.rename(columns = {2017: 'DK Value'})\n",
    "\n",
    "us_PE_simple.reset_index(inplace = True)\n",
    "dk_PE_simple.reset_index(inplace = True)"
   ]
  },
  {
   "cell_type": "code",
   "execution_count": 8,
   "metadata": {},
   "outputs": [],
   "source": [
    "#Narrowing down variable selection. Data is from 2016\n",
    "\n",
    "us_HNP_simple = us_HNP.iloc[[1,2,16,19,20,26,29,32,33],[0,1,2,4]]\n",
    "dk_HNP_simple = dk_HNP.iloc[[1,2,16,19,20,26,29,32,33],[0,1,2,4]]\n",
    "\n",
    "us_HNP_simple = us_HNP_simple.rename(columns = {2016: 'US Value'})\n",
    "dk_HNP_simple = dk_HNP_simple.rename(columns = {2016: 'DK Value'})\n",
    "\n",
    "us_HNP_simple.reset_index(inplace = True)\n",
    "dk_HNP_simple.reset_index(inplace = True)"
   ]
  },
  {
   "cell_type": "code",
   "execution_count": 9,
   "metadata": {},
   "outputs": [],
   "source": [
    "#Narrowing down variable selection. Data is from 2016\n",
    "\n",
    "us_ES_simple = us_ES.iloc[[14,16,19,20],[0,1,2,4]]\n",
    "dk_ES_simple = dk_ES.iloc[[14,16,19,20],[0,1,2,4]]\n",
    "\n",
    "us_ES_simple = us_ES_simple.rename(columns = {2016: 'US Value','Series':'Series Name'})\n",
    "dk_ES_simple = dk_ES_simple.rename(columns = {2016: 'DK Value','Series':'Series Name'})\n",
    "\n",
    "us_ES_simple.reset_index(inplace = True)\n",
    "dk_ES_simple.reset_index(inplace = True)"
   ]
  },
  {
   "cell_type": "code",
   "execution_count": 10,
   "metadata": {},
   "outputs": [
    {
     "data": {
      "text/html": [
       "<div>\n",
       "<style scoped>\n",
       "    .dataframe tbody tr th:only-of-type {\n",
       "        vertical-align: middle;\n",
       "    }\n",
       "\n",
       "    .dataframe tbody tr th {\n",
       "        vertical-align: top;\n",
       "    }\n",
       "\n",
       "    .dataframe thead th {\n",
       "        text-align: right;\n",
       "    }\n",
       "</style>\n",
       "<table border=\"1\" class=\"dataframe\">\n",
       "  <thead>\n",
       "    <tr style=\"text-align: right;\">\n",
       "      <th></th>\n",
       "      <th></th>\n",
       "      <th>Country Code</th>\n",
       "      <th>Series Name</th>\n",
       "      <th>Code</th>\n",
       "      <th>US Value</th>\n",
       "    </tr>\n",
       "  </thead>\n",
       "  <tbody>\n",
       "    <tr>\n",
       "      <th rowspan=\"3\" valign=\"top\">GEM</th>\n",
       "      <th>0</th>\n",
       "      <td>USA</td>\n",
       "      <td>Core CPI,seas.adj,,,</td>\n",
       "      <td>CORESA</td>\n",
       "      <td>114.286</td>\n",
       "    </tr>\n",
       "    <tr>\n",
       "      <th>1</th>\n",
       "      <td>USA</td>\n",
       "      <td>GDP,current US$,millions,seas. adj.,</td>\n",
       "      <td>NYGDPMKTPSACD</td>\n",
       "      <td>1.95194e+07</td>\n",
       "    </tr>\n",
       "    <tr>\n",
       "      <th>2</th>\n",
       "      <td>USA</td>\n",
       "      <td>Unemployment rate,Percent,,,</td>\n",
       "      <td>UNEMPSA_</td>\n",
       "      <td>4.34167</td>\n",
       "    </tr>\n",
       "    <tr>\n",
       "      <th rowspan=\"5\" valign=\"top\">WGI</th>\n",
       "      <th>0</th>\n",
       "      <td>USA</td>\n",
       "      <td>Control of Corruption: Estimate</td>\n",
       "      <td>CC.EST</td>\n",
       "      <td>1.38124</td>\n",
       "    </tr>\n",
       "    <tr>\n",
       "      <th>1</th>\n",
       "      <td>USA</td>\n",
       "      <td>Government Effectiveness: Estimate</td>\n",
       "      <td>GE.EST</td>\n",
       "      <td>1.5543</td>\n",
       "    </tr>\n",
       "    <tr>\n",
       "      <th>2</th>\n",
       "      <td>USA</td>\n",
       "      <td>Political Stability and Absence of Violence/Te...</td>\n",
       "      <td>PV.EST</td>\n",
       "      <td>0.335553</td>\n",
       "    </tr>\n",
       "    <tr>\n",
       "      <th>3</th>\n",
       "      <td>USA</td>\n",
       "      <td>Rule of Law: Estimate</td>\n",
       "      <td>RL.EST</td>\n",
       "      <td>1.64476</td>\n",
       "    </tr>\n",
       "    <tr>\n",
       "      <th>4</th>\n",
       "      <td>USA</td>\n",
       "      <td>Voice and Accountability: Estimate</td>\n",
       "      <td>VA.EST</td>\n",
       "      <td>1.04965</td>\n",
       "    </tr>\n",
       "    <tr>\n",
       "      <th rowspan=\"5\" valign=\"top\">WDI</th>\n",
       "      <th>0</th>\n",
       "      <td>USA</td>\n",
       "      <td>Economic Fitness Metric</td>\n",
       "      <td>SE.TER.CUAT.BA.ZS</td>\n",
       "      <td>10.9</td>\n",
       "    </tr>\n",
       "    <tr>\n",
       "      <th>1</th>\n",
       "      <td>USA</td>\n",
       "      <td>GDP growth (annual %)</td>\n",
       "      <td>NY.GDP.PCAP.KD</td>\n",
       "      <td>2.21701</td>\n",
       "    </tr>\n",
       "    <tr>\n",
       "      <th>2</th>\n",
       "      <td>USA</td>\n",
       "      <td>GDP per capita growth (annual %)</td>\n",
       "      <td>NY.GDP.PCAP.PP.KD</td>\n",
       "      <td>1.57404</td>\n",
       "    </tr>\n",
       "    <tr>\n",
       "      <th>3</th>\n",
       "      <td>USA</td>\n",
       "      <td>Human capital index (HCI) (scale 0-1)</td>\n",
       "      <td>SH.IMM.IDPT</td>\n",
       "      <td>0.762</td>\n",
       "    </tr>\n",
       "    <tr>\n",
       "      <th>4</th>\n",
       "      <td>USA</td>\n",
       "      <td>Inflation, GDP deflator (annual %)</td>\n",
       "      <td>GC.XPN.INTP.ZS</td>\n",
       "      <td>1.90078</td>\n",
       "    </tr>\n",
       "    <tr>\n",
       "      <th rowspan=\"9\" valign=\"top\">HNP</th>\n",
       "      <th>0</th>\n",
       "      <td>USA</td>\n",
       "      <td>Cause of death, by communicable diseases and m...</td>\n",
       "      <td>SH.DTH.COMM.ZS</td>\n",
       "      <td>5.2</td>\n",
       "    </tr>\n",
       "    <tr>\n",
       "      <th>1</th>\n",
       "      <td>USA</td>\n",
       "      <td>Current health expenditure (% of GDP)</td>\n",
       "      <td>SH.XPD.CHEX.GD.ZS</td>\n",
       "      <td>17.1973</td>\n",
       "    </tr>\n",
       "    <tr>\n",
       "      <th>2</th>\n",
       "      <td>USA</td>\n",
       "      <td>Physicians (per 1,000 people)</td>\n",
       "      <td>SH.MED.PHYS.ZS</td>\n",
       "      <td>2.5881</td>\n",
       "    </tr>\n",
       "    <tr>\n",
       "      <th>3</th>\n",
       "      <td>USA</td>\n",
       "      <td>Population ages 65 and above (% of total popul...</td>\n",
       "      <td>SP.POP.65UP.TO.ZS</td>\n",
       "      <td>15.0337</td>\n",
       "    </tr>\n",
       "    <tr>\n",
       "      <th>4</th>\n",
       "      <td>USA</td>\n",
       "      <td>Population growth (annual %)</td>\n",
       "      <td>SP.POP.GROW</td>\n",
       "      <td>0.716669</td>\n",
       "    </tr>\n",
       "    <tr>\n",
       "      <th>5</th>\n",
       "      <td>USA</td>\n",
       "      <td>Rural population (% of total population)</td>\n",
       "      <td>SP.RUR.TOTL.ZS</td>\n",
       "      <td>18.138</td>\n",
       "    </tr>\n",
       "    <tr>\n",
       "      <th>6</th>\n",
       "      <td>USA</td>\n",
       "      <td>Smoking prevalence, total, ages 15+</td>\n",
       "      <td>SH.PRV.SMOK</td>\n",
       "      <td>21.8</td>\n",
       "    </tr>\n",
       "    <tr>\n",
       "      <th>7</th>\n",
       "      <td>USA</td>\n",
       "      <td>Unemployment, total (% of total labor force)</td>\n",
       "      <td>SL.UEM.TOTL.ZS</td>\n",
       "      <td>4.869</td>\n",
       "    </tr>\n",
       "    <tr>\n",
       "      <th>8</th>\n",
       "      <td>USA</td>\n",
       "      <td>Urban population (% of total population)</td>\n",
       "      <td>SP.URB.TOTL.IN.ZS</td>\n",
       "      <td>81.862</td>\n",
       "    </tr>\n",
       "    <tr>\n",
       "      <th rowspan=\"4\" valign=\"top\">ES</th>\n",
       "      <th>0</th>\n",
       "      <td>USA</td>\n",
       "      <td>Percentage of graduates from Science, Technolo...</td>\n",
       "      <td>UIS.FOSGP.5T8.F500600700</td>\n",
       "      <td>17.9202</td>\n",
       "    </tr>\n",
       "    <tr>\n",
       "      <th>1</th>\n",
       "      <td>USA</td>\n",
       "      <td>Percentage of graduates from tertiary educatio...</td>\n",
       "      <td>UIS.FOSGP.5T8.F400</td>\n",
       "      <td>19.3043</td>\n",
       "    </tr>\n",
       "    <tr>\n",
       "      <th>2</th>\n",
       "      <td>USA</td>\n",
       "      <td>Percentage of graduates from tertiary educatio...</td>\n",
       "      <td>SE.TER.GRAD.HL.ZS</td>\n",
       "      <td>17.0101</td>\n",
       "    </tr>\n",
       "    <tr>\n",
       "      <th>3</th>\n",
       "      <td>USA</td>\n",
       "      <td>Percentage of graduates from tertiary educatio...</td>\n",
       "      <td>UIS.FOSGP.5T8.F600</td>\n",
       "      <td>3.78213</td>\n",
       "    </tr>\n",
       "    <tr>\n",
       "      <th rowspan=\"3\" valign=\"top\">PE</th>\n",
       "      <th>0</th>\n",
       "      <td>USA</td>\n",
       "      <td>GINI index (World Bank estimate)</td>\n",
       "      <td>SI.POV.GINI</td>\n",
       "      <td>41.4</td>\n",
       "    </tr>\n",
       "    <tr>\n",
       "      <th>1</th>\n",
       "      <td>USA</td>\n",
       "      <td>Income share held by highest 20%</td>\n",
       "      <td>SI.DST.05TH.20</td>\n",
       "      <td>46.8</td>\n",
       "    </tr>\n",
       "    <tr>\n",
       "      <th>2</th>\n",
       "      <td>USA</td>\n",
       "      <td>Income share held by lowest 20%</td>\n",
       "      <td>SI.DST.FRST.20</td>\n",
       "      <td>5.1</td>\n",
       "    </tr>\n",
       "  </tbody>\n",
       "</table>\n",
       "</div>"
      ],
      "text/plain": [
       "      Country Code                                        Series Name  \\\n",
       "GEM 0          USA                               Core CPI,seas.adj,,,   \n",
       "    1          USA               GDP,current US$,millions,seas. adj.,   \n",
       "    2          USA                       Unemployment rate,Percent,,,   \n",
       "WGI 0          USA                    Control of Corruption: Estimate   \n",
       "    1          USA                 Government Effectiveness: Estimate   \n",
       "    2          USA  Political Stability and Absence of Violence/Te...   \n",
       "    3          USA                              Rule of Law: Estimate   \n",
       "    4          USA                 Voice and Accountability: Estimate   \n",
       "WDI 0          USA                            Economic Fitness Metric   \n",
       "    1          USA                              GDP growth (annual %)   \n",
       "    2          USA                   GDP per capita growth (annual %)   \n",
       "    3          USA              Human capital index (HCI) (scale 0-1)   \n",
       "    4          USA                 Inflation, GDP deflator (annual %)   \n",
       "HNP 0          USA  Cause of death, by communicable diseases and m...   \n",
       "    1          USA              Current health expenditure (% of GDP)   \n",
       "    2          USA                      Physicians (per 1,000 people)   \n",
       "    3          USA  Population ages 65 and above (% of total popul...   \n",
       "    4          USA                       Population growth (annual %)   \n",
       "    5          USA           Rural population (% of total population)   \n",
       "    6          USA                Smoking prevalence, total, ages 15+   \n",
       "    7          USA       Unemployment, total (% of total labor force)   \n",
       "    8          USA           Urban population (% of total population)   \n",
       "ES  0          USA  Percentage of graduates from Science, Technolo...   \n",
       "    1          USA  Percentage of graduates from tertiary educatio...   \n",
       "    2          USA  Percentage of graduates from tertiary educatio...   \n",
       "    3          USA  Percentage of graduates from tertiary educatio...   \n",
       "PE  0          USA                   GINI index (World Bank estimate)   \n",
       "    1          USA                   Income share held by highest 20%   \n",
       "    2          USA                    Income share held by lowest 20%   \n",
       "\n",
       "                           Code     US Value  \n",
       "GEM 0                    CORESA      114.286  \n",
       "    1             NYGDPMKTPSACD  1.95194e+07  \n",
       "    2                  UNEMPSA_      4.34167  \n",
       "WGI 0                    CC.EST      1.38124  \n",
       "    1                    GE.EST       1.5543  \n",
       "    2                    PV.EST     0.335553  \n",
       "    3                    RL.EST      1.64476  \n",
       "    4                    VA.EST      1.04965  \n",
       "WDI 0         SE.TER.CUAT.BA.ZS         10.9  \n",
       "    1            NY.GDP.PCAP.KD      2.21701  \n",
       "    2         NY.GDP.PCAP.PP.KD      1.57404  \n",
       "    3               SH.IMM.IDPT        0.762  \n",
       "    4            GC.XPN.INTP.ZS      1.90078  \n",
       "HNP 0            SH.DTH.COMM.ZS          5.2  \n",
       "    1         SH.XPD.CHEX.GD.ZS      17.1973  \n",
       "    2            SH.MED.PHYS.ZS       2.5881  \n",
       "    3         SP.POP.65UP.TO.ZS      15.0337  \n",
       "    4               SP.POP.GROW     0.716669  \n",
       "    5            SP.RUR.TOTL.ZS       18.138  \n",
       "    6               SH.PRV.SMOK         21.8  \n",
       "    7            SL.UEM.TOTL.ZS        4.869  \n",
       "    8         SP.URB.TOTL.IN.ZS       81.862  \n",
       "ES  0  UIS.FOSGP.5T8.F500600700      17.9202  \n",
       "    1        UIS.FOSGP.5T8.F400      19.3043  \n",
       "    2         SE.TER.GRAD.HL.ZS      17.0101  \n",
       "    3        UIS.FOSGP.5T8.F600      3.78213  \n",
       "PE  0               SI.POV.GINI         41.4  \n",
       "    1            SI.DST.05TH.20         46.8  \n",
       "    2            SI.DST.FRST.20          5.1  "
      ]
     },
     "execution_count": 10,
     "metadata": {},
     "output_type": "execute_result"
    }
   ],
   "source": [
    "#Concat 6 US tables into 1 overall US table \n",
    "US = pd.concat([us_GEM_simple, us_WGI_simple, us_WDI_simple, us_HNP_simple, us_ES_simple,us_PE_simple],keys = ['GEM', 'WGI','WDI','HNP','ES', 'PE'] , sort = False)\n",
    "US.drop('index', axis = 1, inplace = True)\n",
    "US"
   ]
  },
  {
   "cell_type": "code",
   "execution_count": 11,
   "metadata": {},
   "outputs": [
    {
     "data": {
      "text/html": [
       "<div>\n",
       "<style scoped>\n",
       "    .dataframe tbody tr th:only-of-type {\n",
       "        vertical-align: middle;\n",
       "    }\n",
       "\n",
       "    .dataframe tbody tr th {\n",
       "        vertical-align: top;\n",
       "    }\n",
       "\n",
       "    .dataframe thead th {\n",
       "        text-align: right;\n",
       "    }\n",
       "</style>\n",
       "<table border=\"1\" class=\"dataframe\">\n",
       "  <thead>\n",
       "    <tr style=\"text-align: right;\">\n",
       "      <th></th>\n",
       "      <th></th>\n",
       "      <th>Country Code</th>\n",
       "      <th>Series Name</th>\n",
       "      <th>Code</th>\n",
       "      <th>DK Value</th>\n",
       "    </tr>\n",
       "  </thead>\n",
       "  <tbody>\n",
       "    <tr>\n",
       "      <th rowspan=\"3\" valign=\"top\">GEM</th>\n",
       "      <th>0</th>\n",
       "      <td>DNK</td>\n",
       "      <td>Core CPI,seas.adj,,,</td>\n",
       "      <td>CORESA</td>\n",
       "      <td>108.022</td>\n",
       "    </tr>\n",
       "    <tr>\n",
       "      <th>1</th>\n",
       "      <td>DNK</td>\n",
       "      <td>GDP,current US$,millions,seas. adj.,</td>\n",
       "      <td>NYGDPMKTPSACD</td>\n",
       "      <td>330329</td>\n",
       "    </tr>\n",
       "    <tr>\n",
       "      <th>2</th>\n",
       "      <td>DNK</td>\n",
       "      <td>Unemployment rate,Percent,,,</td>\n",
       "      <td>UNEMPSA_</td>\n",
       "      <td>4.19421</td>\n",
       "    </tr>\n",
       "    <tr>\n",
       "      <th rowspan=\"5\" valign=\"top\">WGI</th>\n",
       "      <th>0</th>\n",
       "      <td>DNK</td>\n",
       "      <td>Control of Corruption: Estimate</td>\n",
       "      <td>CC.EST</td>\n",
       "      <td>2.19338</td>\n",
       "    </tr>\n",
       "    <tr>\n",
       "      <th>1</th>\n",
       "      <td>DNK</td>\n",
       "      <td>Government Effectiveness: Estimate</td>\n",
       "      <td>GE.EST</td>\n",
       "      <td>1.79694</td>\n",
       "    </tr>\n",
       "    <tr>\n",
       "      <th>2</th>\n",
       "      <td>DNK</td>\n",
       "      <td>Political Stability and Absence of Violence/Te...</td>\n",
       "      <td>PV.EST</td>\n",
       "      <td>0.868219</td>\n",
       "    </tr>\n",
       "    <tr>\n",
       "      <th>3</th>\n",
       "      <td>DNK</td>\n",
       "      <td>Rule of Law: Estimate</td>\n",
       "      <td>RL.EST</td>\n",
       "      <td>1.86385</td>\n",
       "    </tr>\n",
       "    <tr>\n",
       "      <th>4</th>\n",
       "      <td>DNK</td>\n",
       "      <td>Voice and Accountability: Estimate</td>\n",
       "      <td>VA.EST</td>\n",
       "      <td>1.51554</td>\n",
       "    </tr>\n",
       "    <tr>\n",
       "      <th rowspan=\"5\" valign=\"top\">WDI</th>\n",
       "      <th>0</th>\n",
       "      <td>DNK</td>\n",
       "      <td>Economic Fitness Metric</td>\n",
       "      <td>SE.TER.CUAT.BA.ZS</td>\n",
       "      <td>2.5</td>\n",
       "    </tr>\n",
       "    <tr>\n",
       "      <th>1</th>\n",
       "      <td>DNK</td>\n",
       "      <td>GDP growth (annual %)</td>\n",
       "      <td>NY.GDP.PCAP.KD</td>\n",
       "      <td>2.03617</td>\n",
       "    </tr>\n",
       "    <tr>\n",
       "      <th>2</th>\n",
       "      <td>DNK</td>\n",
       "      <td>GDP per capita growth (annual %)</td>\n",
       "      <td>NY.GDP.PCAP.PP.KD</td>\n",
       "      <td>1.38182</td>\n",
       "    </tr>\n",
       "    <tr>\n",
       "      <th>3</th>\n",
       "      <td>DNK</td>\n",
       "      <td>Human capital index (HCI) (scale 0-1)</td>\n",
       "      <td>SH.IMM.IDPT</td>\n",
       "      <td>0.774</td>\n",
       "    </tr>\n",
       "    <tr>\n",
       "      <th>4</th>\n",
       "      <td>DNK</td>\n",
       "      <td>Inflation, GDP deflator (annual %)</td>\n",
       "      <td>GC.XPN.INTP.ZS</td>\n",
       "      <td>1.13353</td>\n",
       "    </tr>\n",
       "    <tr>\n",
       "      <th rowspan=\"9\" valign=\"top\">HNP</th>\n",
       "      <th>0</th>\n",
       "      <td>DNK</td>\n",
       "      <td>Cause of death, by communicable diseases and m...</td>\n",
       "      <td>SH.DTH.COMM.ZS</td>\n",
       "      <td>6.5</td>\n",
       "    </tr>\n",
       "    <tr>\n",
       "      <th>1</th>\n",
       "      <td>DNK</td>\n",
       "      <td>Current health expenditure (% of GDP)</td>\n",
       "      <td>SH.XPD.CHEX.GD.ZS</td>\n",
       "      <td>10.1812</td>\n",
       "    </tr>\n",
       "    <tr>\n",
       "      <th>2</th>\n",
       "      <td>DNK</td>\n",
       "      <td>Physicians (per 1,000 people)</td>\n",
       "      <td>SH.MED.PHYS.ZS</td>\n",
       "      <td>4.0099</td>\n",
       "    </tr>\n",
       "    <tr>\n",
       "      <th>3</th>\n",
       "      <td>DNK</td>\n",
       "      <td>Population ages 65 and above (% of total popul...</td>\n",
       "      <td>SP.POP.65UP.TO.ZS</td>\n",
       "      <td>19.4225</td>\n",
       "    </tr>\n",
       "    <tr>\n",
       "      <th>4</th>\n",
       "      <td>DNK</td>\n",
       "      <td>Population growth (annual %)</td>\n",
       "      <td>SP.POP.GROW</td>\n",
       "      <td>0.780393</td>\n",
       "    </tr>\n",
       "    <tr>\n",
       "      <th>5</th>\n",
       "      <td>DNK</td>\n",
       "      <td>Rural population (% of total population)</td>\n",
       "      <td>SP.RUR.TOTL.ZS</td>\n",
       "      <td>12.358</td>\n",
       "    </tr>\n",
       "    <tr>\n",
       "      <th>6</th>\n",
       "      <td>DNK</td>\n",
       "      <td>Smoking prevalence, total, ages 15+</td>\n",
       "      <td>SH.PRV.SMOK</td>\n",
       "      <td>19.1</td>\n",
       "    </tr>\n",
       "    <tr>\n",
       "      <th>7</th>\n",
       "      <td>DNK</td>\n",
       "      <td>Unemployment, total (% of total labor force)</td>\n",
       "      <td>SL.UEM.TOTL.ZS</td>\n",
       "      <td>6.181</td>\n",
       "    </tr>\n",
       "    <tr>\n",
       "      <th>8</th>\n",
       "      <td>DNK</td>\n",
       "      <td>Urban population (% of total population)</td>\n",
       "      <td>SP.URB.TOTL.IN.ZS</td>\n",
       "      <td>87.642</td>\n",
       "    </tr>\n",
       "    <tr>\n",
       "      <th rowspan=\"4\" valign=\"top\">ES</th>\n",
       "      <th>0</th>\n",
       "      <td>DNK</td>\n",
       "      <td>Percentage of graduates from Science, Technolo...</td>\n",
       "      <td>UIS.FOSGP.5T8.F500600700</td>\n",
       "      <td>20.4631</td>\n",
       "    </tr>\n",
       "    <tr>\n",
       "      <th>1</th>\n",
       "      <td>DNK</td>\n",
       "      <td>Percentage of graduates from tertiary educatio...</td>\n",
       "      <td>UIS.FOSGP.5T8.F400</td>\n",
       "      <td>24.8622</td>\n",
       "    </tr>\n",
       "    <tr>\n",
       "      <th>2</th>\n",
       "      <td>DNK</td>\n",
       "      <td>Percentage of graduates from tertiary educatio...</td>\n",
       "      <td>SE.TER.GRAD.HL.ZS</td>\n",
       "      <td>20.3271</td>\n",
       "    </tr>\n",
       "    <tr>\n",
       "      <th>3</th>\n",
       "      <td>DNK</td>\n",
       "      <td>Percentage of graduates from tertiary educatio...</td>\n",
       "      <td>UIS.FOSGP.5T8.F600</td>\n",
       "      <td>4.5316</td>\n",
       "    </tr>\n",
       "    <tr>\n",
       "      <th rowspan=\"3\" valign=\"top\">PE</th>\n",
       "      <th>0</th>\n",
       "      <td>DNK</td>\n",
       "      <td>GINI index (World Bank estimate)</td>\n",
       "      <td>SI.POV.GINI</td>\n",
       "      <td>28.7</td>\n",
       "    </tr>\n",
       "    <tr>\n",
       "      <th>1</th>\n",
       "      <td>DNK</td>\n",
       "      <td>Income share held by highest 20%</td>\n",
       "      <td>SI.DST.05TH.20</td>\n",
       "      <td>38.1</td>\n",
       "    </tr>\n",
       "    <tr>\n",
       "      <th>2</th>\n",
       "      <td>DNK</td>\n",
       "      <td>Income share held by lowest 20%</td>\n",
       "      <td>SI.DST.FRST.20</td>\n",
       "      <td>9.1</td>\n",
       "    </tr>\n",
       "  </tbody>\n",
       "</table>\n",
       "</div>"
      ],
      "text/plain": [
       "      Country Code                                        Series Name  \\\n",
       "GEM 0          DNK                               Core CPI,seas.adj,,,   \n",
       "    1          DNK               GDP,current US$,millions,seas. adj.,   \n",
       "    2          DNK                       Unemployment rate,Percent,,,   \n",
       "WGI 0          DNK                    Control of Corruption: Estimate   \n",
       "    1          DNK                 Government Effectiveness: Estimate   \n",
       "    2          DNK  Political Stability and Absence of Violence/Te...   \n",
       "    3          DNK                              Rule of Law: Estimate   \n",
       "    4          DNK                 Voice and Accountability: Estimate   \n",
       "WDI 0          DNK                            Economic Fitness Metric   \n",
       "    1          DNK                              GDP growth (annual %)   \n",
       "    2          DNK                   GDP per capita growth (annual %)   \n",
       "    3          DNK              Human capital index (HCI) (scale 0-1)   \n",
       "    4          DNK                 Inflation, GDP deflator (annual %)   \n",
       "HNP 0          DNK  Cause of death, by communicable diseases and m...   \n",
       "    1          DNK              Current health expenditure (% of GDP)   \n",
       "    2          DNK                      Physicians (per 1,000 people)   \n",
       "    3          DNK  Population ages 65 and above (% of total popul...   \n",
       "    4          DNK                       Population growth (annual %)   \n",
       "    5          DNK           Rural population (% of total population)   \n",
       "    6          DNK                Smoking prevalence, total, ages 15+   \n",
       "    7          DNK       Unemployment, total (% of total labor force)   \n",
       "    8          DNK           Urban population (% of total population)   \n",
       "ES  0          DNK  Percentage of graduates from Science, Technolo...   \n",
       "    1          DNK  Percentage of graduates from tertiary educatio...   \n",
       "    2          DNK  Percentage of graduates from tertiary educatio...   \n",
       "    3          DNK  Percentage of graduates from tertiary educatio...   \n",
       "PE  0          DNK                   GINI index (World Bank estimate)   \n",
       "    1          DNK                   Income share held by highest 20%   \n",
       "    2          DNK                    Income share held by lowest 20%   \n",
       "\n",
       "                           Code  DK Value  \n",
       "GEM 0                    CORESA   108.022  \n",
       "    1             NYGDPMKTPSACD    330329  \n",
       "    2                  UNEMPSA_   4.19421  \n",
       "WGI 0                    CC.EST   2.19338  \n",
       "    1                    GE.EST   1.79694  \n",
       "    2                    PV.EST  0.868219  \n",
       "    3                    RL.EST   1.86385  \n",
       "    4                    VA.EST   1.51554  \n",
       "WDI 0         SE.TER.CUAT.BA.ZS       2.5  \n",
       "    1            NY.GDP.PCAP.KD   2.03617  \n",
       "    2         NY.GDP.PCAP.PP.KD   1.38182  \n",
       "    3               SH.IMM.IDPT     0.774  \n",
       "    4            GC.XPN.INTP.ZS   1.13353  \n",
       "HNP 0            SH.DTH.COMM.ZS       6.5  \n",
       "    1         SH.XPD.CHEX.GD.ZS   10.1812  \n",
       "    2            SH.MED.PHYS.ZS    4.0099  \n",
       "    3         SP.POP.65UP.TO.ZS   19.4225  \n",
       "    4               SP.POP.GROW  0.780393  \n",
       "    5            SP.RUR.TOTL.ZS    12.358  \n",
       "    6               SH.PRV.SMOK      19.1  \n",
       "    7            SL.UEM.TOTL.ZS     6.181  \n",
       "    8         SP.URB.TOTL.IN.ZS    87.642  \n",
       "ES  0  UIS.FOSGP.5T8.F500600700   20.4631  \n",
       "    1        UIS.FOSGP.5T8.F400   24.8622  \n",
       "    2         SE.TER.GRAD.HL.ZS   20.3271  \n",
       "    3        UIS.FOSGP.5T8.F600    4.5316  \n",
       "PE  0               SI.POV.GINI      28.7  \n",
       "    1            SI.DST.05TH.20      38.1  \n",
       "    2            SI.DST.FRST.20       9.1  "
      ]
     },
     "execution_count": 11,
     "metadata": {},
     "output_type": "execute_result"
    }
   ],
   "source": [
    "#Concat 6 DK tables into 1 overall DK table \n",
    "DK = pd.concat([dk_GEM_simple, dk_WGI_simple, dk_WDI_simple, dk_HNP_simple, dk_ES_simple,dk_PE_simple],keys = ['GEM', 'WGI','WDI','HNP','ES', 'PE'] , sort = False)\n",
    "DK.drop('index', axis = 1, inplace = True)\n",
    "DK"
   ]
  },
  {
   "cell_type": "code",
   "execution_count": 12,
   "metadata": {},
   "outputs": [],
   "source": [
    "#Merge the US and DK overall tables together\n",
    "quant = US.merge(DK, on= 'Series Name')\n",
    "quant.drop(['Country Code_x', 'Code_x', 'Country Code_y'], axis = 1, inplace = True)\n",
    "quant.rename(columns = {'Code_y':'MetaCode'}, inplace = True)\n",
    "quant= quant[['Series Name', 'MetaCode', 'US Value', 'DK Value']]\n",
    "quant.drop_duplicates(inplace = True)"
   ]
  },
  {
   "cell_type": "code",
   "execution_count": 51,
   "metadata": {
    "scrolled": false
   },
   "outputs": [
    {
     "data": {
      "text/html": [
       "<div>\n",
       "<style scoped>\n",
       "    .dataframe tbody tr th:only-of-type {\n",
       "        vertical-align: middle;\n",
       "    }\n",
       "\n",
       "    .dataframe tbody tr th {\n",
       "        vertical-align: top;\n",
       "    }\n",
       "\n",
       "    .dataframe thead th {\n",
       "        text-align: right;\n",
       "    }\n",
       "</style>\n",
       "<table border=\"1\" class=\"dataframe\">\n",
       "  <thead>\n",
       "    <tr style=\"text-align: right;\">\n",
       "      <th></th>\n",
       "      <th>Cultural Variable</th>\n",
       "      <th>US Value</th>\n",
       "      <th>DK Value</th>\n",
       "    </tr>\n",
       "  </thead>\n",
       "  <tbody>\n",
       "    <tr>\n",
       "      <th>0</th>\n",
       "      <td>Control of Corruption</td>\n",
       "      <td>1.38124</td>\n",
       "      <td>2.19338</td>\n",
       "    </tr>\n",
       "    <tr>\n",
       "      <th>1</th>\n",
       "      <td>Government Effectiveness</td>\n",
       "      <td>1.5543</td>\n",
       "      <td>1.79694</td>\n",
       "    </tr>\n",
       "    <tr>\n",
       "      <th>2</th>\n",
       "      <td>Rule of Law</td>\n",
       "      <td>1.64476</td>\n",
       "      <td>1.86385</td>\n",
       "    </tr>\n",
       "    <tr>\n",
       "      <th>3</th>\n",
       "      <td>Economic Fitness Metric</td>\n",
       "      <td>10.9</td>\n",
       "      <td>2.5</td>\n",
       "    </tr>\n",
       "    <tr>\n",
       "      <th>4</th>\n",
       "      <td>GDP Growth (annual %)</td>\n",
       "      <td>2.21701</td>\n",
       "      <td>2.03617</td>\n",
       "    </tr>\n",
       "    <tr>\n",
       "      <th>5</th>\n",
       "      <td>Current Health Expenditure (% of GDP)</td>\n",
       "      <td>17.1973</td>\n",
       "      <td>10.1812</td>\n",
       "    </tr>\n",
       "    <tr>\n",
       "      <th>6</th>\n",
       "      <td>Physicians per 1,000 people</td>\n",
       "      <td>2.5881</td>\n",
       "      <td>4.0099</td>\n",
       "    </tr>\n",
       "    <tr>\n",
       "      <th>7</th>\n",
       "      <td>% of Population 65 and above</td>\n",
       "      <td>15.0337</td>\n",
       "      <td>19.4225</td>\n",
       "    </tr>\n",
       "    <tr>\n",
       "      <th>8</th>\n",
       "      <td>% of Labor Force Unemployed</td>\n",
       "      <td>4.869</td>\n",
       "      <td>6.181</td>\n",
       "    </tr>\n",
       "    <tr>\n",
       "      <th>9</th>\n",
       "      <td>GINI Index</td>\n",
       "      <td>41.4</td>\n",
       "      <td>28.7</td>\n",
       "    </tr>\n",
       "    <tr>\n",
       "      <th>10</th>\n",
       "      <td>Income Share held by top 20%</td>\n",
       "      <td>46.8</td>\n",
       "      <td>38.1</td>\n",
       "    </tr>\n",
       "  </tbody>\n",
       "</table>\n",
       "</div>"
      ],
      "text/plain": [
       "                        Cultural Variable US Value DK Value\n",
       "0                   Control of Corruption  1.38124  2.19338\n",
       "1                Government Effectiveness   1.5543  1.79694\n",
       "2                             Rule of Law  1.64476  1.86385\n",
       "3                 Economic Fitness Metric     10.9      2.5\n",
       "4                   GDP Growth (annual %)  2.21701  2.03617\n",
       "5   Current Health Expenditure (% of GDP)  17.1973  10.1812\n",
       "6             Physicians per 1,000 people   2.5881   4.0099\n",
       "7            % of Population 65 and above  15.0337  19.4225\n",
       "8             % of Labor Force Unemployed    4.869    6.181\n",
       "9                              GINI Index     41.4     28.7\n",
       "10           Income Share held by top 20%     46.8     38.1"
      ]
     },
     "execution_count": 51,
     "metadata": {},
     "output_type": "execute_result"
    }
   ],
   "source": [
    "#Selecting the categories that highlight the biggest, or most explanatory, differences between countries \n",
    "quant_table = quant.iloc[[3,4,6,8,9,14,15,16,20,26,27],[0,2,3]]\n",
    "quant_table.reset_index(inplace = True)\n",
    "quant_table.drop('index', axis = 1, inplace = True)\n",
    "cultural = ['Control of Corruption', 'Government Effectiveness','Rule of Law', 'Economic Fitness Metric', 'GDP Growth (annual %)', 'Current Health Expenditure (% of GDP)', 'Physicians per 1,000 people', '% of Population 65 and above', '% of Labor Force Unemployed', 'GINI Index', 'Income Share held by top 20%']\n",
    "quant_table.rename(columns = {'Series Name': 'Cultural Variable', 'MetaCode': 'Metadata Code'}, inplace = True)\n",
    "quant_table['Cultural Variable'] = cultural\n",
    "quant_table"
   ]
  },
  {
   "cell_type": "markdown",
   "metadata": {},
   "source": [
    "### 1. Data: Coronavirus Data\n",
    "#### Reading in the data and additional cleaning"
   ]
  },
  {
   "cell_type": "code",
   "execution_count": 14,
   "metadata": {},
   "outputs": [],
   "source": [
    "us_CDC = pd.read_excel('DataExtracts/European_CDC_Daily_Cases.xlsx', sheet_name = 'Daily Cases US')\n",
    "dk_CDC = pd.read_excel('DataExtracts/European_CDC_Daily_Cases.xlsx', sheet_name = 'Daily Cases DK')"
   ]
  },
  {
   "cell_type": "code",
   "execution_count": 15,
   "metadata": {},
   "outputs": [],
   "source": [
    "#Cutting the date range to Dec 31, 2019 to Aug 31, 2020\n",
    "us_CDC = us_CDC[us_CDC['dateRep'] < '2020-09-01' ]\n",
    "dk_CDC = dk_CDC[dk_CDC['dateRep'] < '2020-09-01' ]\n",
    "\n",
    "#Creating a week number variable: Start of next week is a Monday\n",
    "us_CDC['week_num'] = us_CDC['dateRep'].dt.week\n",
    "dk_CDC['week_num'] = dk_CDC['dateRep'].dt.week\n",
    "\n",
    "#Creating a death rate variable (calculated as a percent)\n",
    "us_CDC['Death_Rate'] = (us_CDC['deaths']/us_CDC['cases']) *100\n",
    "dk_CDC['Death_Rate'] = dk_CDC['deaths']/dk_CDC['cases'] *100\n",
    "\n",
    "#Setting the index of each table to the daily date so resample() can be applied\n",
    "us_CDC = us_CDC.set_index('dateRep')\n",
    "dk_CDC = dk_CDC.set_index('dateRep')"
   ]
  },
  {
   "cell_type": "markdown",
   "metadata": {},
   "source": [
    "### 2. Methods: Distribution Analysis"
   ]
  },
  {
   "cell_type": "code",
   "execution_count": 16,
   "metadata": {},
   "outputs": [
    {
     "data": {
      "text/html": [
       "<div>\n",
       "<style scoped>\n",
       "    .dataframe tbody tr th:only-of-type {\n",
       "        vertical-align: middle;\n",
       "    }\n",
       "\n",
       "    .dataframe tbody tr th {\n",
       "        vertical-align: top;\n",
       "    }\n",
       "\n",
       "    .dataframe thead th {\n",
       "        text-align: right;\n",
       "    }\n",
       "</style>\n",
       "<table border=\"1\" class=\"dataframe\">\n",
       "  <thead>\n",
       "    <tr style=\"text-align: right;\">\n",
       "      <th></th>\n",
       "      <th>cases</th>\n",
       "      <th>deaths</th>\n",
       "      <th>%NewCases</th>\n",
       "      <th>%NewDeaths</th>\n",
       "      <th>Death_Rate</th>\n",
       "    </tr>\n",
       "  </thead>\n",
       "  <tbody>\n",
       "    <tr>\n",
       "      <th>mean</th>\n",
       "      <td>24478.216327</td>\n",
       "      <td>747.220408</td>\n",
       "      <td>0.007439</td>\n",
       "      <td>0.000227</td>\n",
       "      <td>3.513445</td>\n",
       "    </tr>\n",
       "    <tr>\n",
       "      <th>std</th>\n",
       "      <td>22017.662682</td>\n",
       "      <td>772.674199</td>\n",
       "      <td>0.006691</td>\n",
       "      <td>0.000235</td>\n",
       "      <td>3.909817</td>\n",
       "    </tr>\n",
       "    <tr>\n",
       "      <th>min</th>\n",
       "      <td>0.000000</td>\n",
       "      <td>0.000000</td>\n",
       "      <td>0.000000</td>\n",
       "      <td>0.000000</td>\n",
       "      <td>0.000000</td>\n",
       "    </tr>\n",
       "    <tr>\n",
       "      <th>25%</th>\n",
       "      <td>18.000000</td>\n",
       "      <td>0.000000</td>\n",
       "      <td>0.000005</td>\n",
       "      <td>0.000000</td>\n",
       "      <td>1.287001</td>\n",
       "    </tr>\n",
       "    <tr>\n",
       "      <th>50%</th>\n",
       "      <td>23285.000000</td>\n",
       "      <td>659.000000</td>\n",
       "      <td>0.007076</td>\n",
       "      <td>0.000200</td>\n",
       "      <td>2.417827</td>\n",
       "    </tr>\n",
       "    <tr>\n",
       "      <th>75%</th>\n",
       "      <td>40949.000000</td>\n",
       "      <td>1186.000000</td>\n",
       "      <td>0.012444</td>\n",
       "      <td>0.000360</td>\n",
       "      <td>4.965794</td>\n",
       "    </tr>\n",
       "    <tr>\n",
       "      <th>max</th>\n",
       "      <td>78427.000000</td>\n",
       "      <td>4928.000000</td>\n",
       "      <td>0.023833</td>\n",
       "      <td>0.001498</td>\n",
       "      <td>33.333333</td>\n",
       "    </tr>\n",
       "  </tbody>\n",
       "</table>\n",
       "</div>"
      ],
      "text/plain": [
       "             cases       deaths  %NewCases  %NewDeaths  Death_Rate\n",
       "mean  24478.216327   747.220408   0.007439    0.000227    3.513445\n",
       "std   22017.662682   772.674199   0.006691    0.000235    3.909817\n",
       "min       0.000000     0.000000   0.000000    0.000000    0.000000\n",
       "25%      18.000000     0.000000   0.000005    0.000000    1.287001\n",
       "50%   23285.000000   659.000000   0.007076    0.000200    2.417827\n",
       "75%   40949.000000  1186.000000   0.012444    0.000360    4.965794\n",
       "max   78427.000000  4928.000000   0.023833    0.001498   33.333333"
      ]
     },
     "execution_count": 16,
     "metadata": {},
     "output_type": "execute_result"
    }
   ],
   "source": [
    "#Create a summary table for US daily case and death counts\n",
    "us_sum = us_CDC.describe()\n",
    "us_sum.drop(['day','month','year','Pop2019', 'week_num','CUMcases','CUMdeaths','%CUMcases','%CUMdeaths'], axis = 1, inplace = True)\n",
    "us_sum.drop(['count'], inplace = True)\n",
    "us_sum"
   ]
  },
  {
   "cell_type": "code",
   "execution_count": 17,
   "metadata": {},
   "outputs": [
    {
     "data": {
      "text/html": [
       "<div>\n",
       "<style scoped>\n",
       "    .dataframe tbody tr th:only-of-type {\n",
       "        vertical-align: middle;\n",
       "    }\n",
       "\n",
       "    .dataframe tbody tr th {\n",
       "        vertical-align: top;\n",
       "    }\n",
       "\n",
       "    .dataframe thead th {\n",
       "        text-align: right;\n",
       "    }\n",
       "</style>\n",
       "<table border=\"1\" class=\"dataframe\">\n",
       "  <thead>\n",
       "    <tr style=\"text-align: right;\">\n",
       "      <th></th>\n",
       "      <th>cases</th>\n",
       "      <th>deaths</th>\n",
       "      <th>%NewCases</th>\n",
       "      <th>%NewDeaths</th>\n",
       "      <th>Death_Rate</th>\n",
       "    </tr>\n",
       "  </thead>\n",
       "  <tbody>\n",
       "    <tr>\n",
       "      <th>mean</th>\n",
       "      <td>68.163265</td>\n",
       "      <td>2.546939</td>\n",
       "      <td>0.001174</td>\n",
       "      <td>0.000044</td>\n",
       "      <td>3.231852</td>\n",
       "    </tr>\n",
       "    <tr>\n",
       "      <th>std</th>\n",
       "      <td>82.424219</td>\n",
       "      <td>4.533441</td>\n",
       "      <td>0.001420</td>\n",
       "      <td>0.000078</td>\n",
       "      <td>4.032904</td>\n",
       "    </tr>\n",
       "    <tr>\n",
       "      <th>min</th>\n",
       "      <td>0.000000</td>\n",
       "      <td>0.000000</td>\n",
       "      <td>0.000000</td>\n",
       "      <td>0.000000</td>\n",
       "      <td>0.000000</td>\n",
       "    </tr>\n",
       "    <tr>\n",
       "      <th>25%</th>\n",
       "      <td>0.000000</td>\n",
       "      <td>0.000000</td>\n",
       "      <td>0.000000</td>\n",
       "      <td>0.000000</td>\n",
       "      <td>0.000000</td>\n",
       "    </tr>\n",
       "    <tr>\n",
       "      <th>50%</th>\n",
       "      <td>40.000000</td>\n",
       "      <td>0.000000</td>\n",
       "      <td>0.000689</td>\n",
       "      <td>0.000000</td>\n",
       "      <td>2.062075</td>\n",
       "    </tr>\n",
       "    <tr>\n",
       "      <th>75%</th>\n",
       "      <td>112.000000</td>\n",
       "      <td>3.000000</td>\n",
       "      <td>0.001929</td>\n",
       "      <td>0.000052</td>\n",
       "      <td>5.908458</td>\n",
       "    </tr>\n",
       "    <tr>\n",
       "      <th>max</th>\n",
       "      <td>390.000000</td>\n",
       "      <td>22.000000</td>\n",
       "      <td>0.006717</td>\n",
       "      <td>0.000379</td>\n",
       "      <td>28.571429</td>\n",
       "    </tr>\n",
       "  </tbody>\n",
       "</table>\n",
       "</div>"
      ],
      "text/plain": [
       "           cases     deaths  %NewCases  %NewDeaths  Death_Rate\n",
       "mean   68.163265   2.546939   0.001174    0.000044    3.231852\n",
       "std    82.424219   4.533441   0.001420    0.000078    4.032904\n",
       "min     0.000000   0.000000   0.000000    0.000000    0.000000\n",
       "25%     0.000000   0.000000   0.000000    0.000000    0.000000\n",
       "50%    40.000000   0.000000   0.000689    0.000000    2.062075\n",
       "75%   112.000000   3.000000   0.001929    0.000052    5.908458\n",
       "max   390.000000  22.000000   0.006717    0.000379   28.571429"
      ]
     },
     "execution_count": 17,
     "metadata": {},
     "output_type": "execute_result"
    }
   ],
   "source": [
    "#Create a summary table for DK daily case and death counts\n",
    "dk_sum = dk_CDC.describe()\n",
    "dk_sum.drop(['day','month','year','Pop2019', 'week_num','CUMcases','CUMdeaths','%CUMcases','%CUMdeaths'], axis = 1, inplace = True)\n",
    "dk_sum.drop(['count'], inplace = True)\n",
    "dk_sum"
   ]
  },
  {
   "cell_type": "markdown",
   "metadata": {},
   "source": [
    "Note: Extremely high daily death rates (>10%) were found in early months where there were low numbers of new cases identified in a day, but some deaths occured still occured. However, it can be concluded that looking at changes in daily rates are inaccurate, as cases and deaths do not fluctuate evenly. This can be fixed by aggregating tothe weekly level"
   ]
  },
  {
   "cell_type": "code",
   "execution_count": 18,
   "metadata": {},
   "outputs": [],
   "source": [
    "#Aggregate US table up to weekly level using resample()\n",
    "us_CDC_weekly = us_CDC.resample('W').sum()\n",
    "\n",
    "#Some variables need to be dropped and recreated using weekly numbers\n",
    "us_CDC_weekly.drop(['day', 'month','year', 'Pop2019', 'week_num','Death_Rate','%NewCases','%NewDeaths','%CUMcases', '%CUMdeaths','CUMcases', 'CUMdeaths'], axis = 1, inplace = True)\n",
    "us_CDC_weekly['week_num'] = range(0,len(us_CDC_weekly))\n",
    "us_CDC_weekly['Death_Rate'] = (us_CDC_weekly['deaths']/us_CDC_weekly['cases']) *100\n",
    "us_CDC_weekly['%NewCases'] = (us_CDC_weekly['cases']/ 329064917)*100 \n",
    "us_CDC_weekly['%NewDeaths'] = (us_CDC_weekly['deaths']/ 329064917)*100\n",
    "us_CDC_weekly.fillna(0, inplace = True)\n",
    "us_CDC_weekly = us_CDC_weekly.reset_index()\n",
    "\n",
    "#Week 35 is not a full week, numbers were inaccurate\n",
    "us_CDC_weekly.drop([35], inplace = True) \n",
    "#us_CDC_weekly.tail()"
   ]
  },
  {
   "cell_type": "code",
   "execution_count": 19,
   "metadata": {},
   "outputs": [],
   "source": [
    "#Aggregate DK table up to weekly level using resample()\n",
    "dk_CDC_weekly = dk_CDC.resample('W').sum()\n",
    "\n",
    "#Some variables need to be dropped and recreated using weekly numbers\n",
    "dk_CDC_weekly.drop(['day', 'month','year', 'Pop2019', 'week_num','Death_Rate','%NewCases','%NewDeaths','%CUMcases', '%CUMdeaths', 'CUMcases', 'CUMdeaths'], axis = 1, inplace = True)\n",
    "dk_CDC_weekly['week_num'] = range(0,len(dk_CDC_weekly))\n",
    "dk_CDC_weekly['Death_Rate'] = (dk_CDC_weekly['deaths']/dk_CDC_weekly['cases']) *100\n",
    "dk_CDC_weekly['%NewCases'] = (dk_CDC_weekly['cases']/ 5806081)*100 \n",
    "dk_CDC_weekly['%NewDeaths'] = (dk_CDC_weekly['deaths']/ 5806081)*100\n",
    "dk_CDC_weekly.fillna(0, inplace = True)\n",
    "dk_CDC_weekly = dk_CDC_weekly.reset_index()\n",
    "dk_CDC_weekly.drop([35], inplace = True)\n",
    "#dk_CDC_weekly.tail()"
   ]
  },
  {
   "cell_type": "code",
   "execution_count": 20,
   "metadata": {},
   "outputs": [
    {
     "data": {
      "text/html": [
       "<div>\n",
       "<style scoped>\n",
       "    .dataframe tbody tr th:only-of-type {\n",
       "        vertical-align: middle;\n",
       "    }\n",
       "\n",
       "    .dataframe tbody tr th {\n",
       "        vertical-align: top;\n",
       "    }\n",
       "\n",
       "    .dataframe thead th {\n",
       "        text-align: right;\n",
       "    }\n",
       "</style>\n",
       "<table border=\"1\" class=\"dataframe\">\n",
       "  <thead>\n",
       "    <tr style=\"text-align: right;\">\n",
       "      <th></th>\n",
       "      <th>cases</th>\n",
       "      <th>deaths</th>\n",
       "      <th>Death_Rate</th>\n",
       "      <th>%NewCases</th>\n",
       "      <th>%NewDeaths</th>\n",
       "    </tr>\n",
       "  </thead>\n",
       "  <tbody>\n",
       "    <tr>\n",
       "      <th>mean</th>\n",
       "      <td>170330.914286</td>\n",
       "      <td>5222.257143</td>\n",
       "      <td>2.700615</td>\n",
       "      <td>0.051762</td>\n",
       "      <td>0.001587</td>\n",
       "    </tr>\n",
       "    <tr>\n",
       "      <th>std</th>\n",
       "      <td>153668.357307</td>\n",
       "      <td>4891.876425</td>\n",
       "      <td>2.448256</td>\n",
       "      <td>0.046698</td>\n",
       "      <td>0.001487</td>\n",
       "    </tr>\n",
       "    <tr>\n",
       "      <th>min</th>\n",
       "      <td>0.000000</td>\n",
       "      <td>0.000000</td>\n",
       "      <td>0.000000</td>\n",
       "      <td>0.000000</td>\n",
       "      <td>0.000000</td>\n",
       "    </tr>\n",
       "    <tr>\n",
       "      <th>25%</th>\n",
       "      <td>199.000000</td>\n",
       "      <td>8.500000</td>\n",
       "      <td>1.166568</td>\n",
       "      <td>0.000060</td>\n",
       "      <td>0.000003</td>\n",
       "    </tr>\n",
       "    <tr>\n",
       "      <th>50%</th>\n",
       "      <td>158343.000000</td>\n",
       "      <td>5634.000000</td>\n",
       "      <td>2.112969</td>\n",
       "      <td>0.048119</td>\n",
       "      <td>0.001712</td>\n",
       "    </tr>\n",
       "    <tr>\n",
       "      <th>75%</th>\n",
       "      <td>274340.500000</td>\n",
       "      <td>7517.000000</td>\n",
       "      <td>4.209133</td>\n",
       "      <td>0.083370</td>\n",
       "      <td>0.002284</td>\n",
       "    </tr>\n",
       "    <tr>\n",
       "      <th>max</th>\n",
       "      <td>466563.000000</td>\n",
       "      <td>18302.000000</td>\n",
       "      <td>8.921929</td>\n",
       "      <td>0.141784</td>\n",
       "      <td>0.005562</td>\n",
       "    </tr>\n",
       "  </tbody>\n",
       "</table>\n",
       "</div>"
      ],
      "text/plain": [
       "              cases        deaths  Death_Rate  %NewCases  %NewDeaths\n",
       "mean  170330.914286   5222.257143    2.700615   0.051762    0.001587\n",
       "std   153668.357307   4891.876425    2.448256   0.046698    0.001487\n",
       "min        0.000000      0.000000    0.000000   0.000000    0.000000\n",
       "25%      199.000000      8.500000    1.166568   0.000060    0.000003\n",
       "50%   158343.000000   5634.000000    2.112969   0.048119    0.001712\n",
       "75%   274340.500000   7517.000000    4.209133   0.083370    0.002284\n",
       "max   466563.000000  18302.000000    8.921929   0.141784    0.005562"
      ]
     },
     "execution_count": 20,
     "metadata": {},
     "output_type": "execute_result"
    }
   ],
   "source": [
    "#Create new a summary table for US weekly case and death counts\n",
    "us_weekly_sum = us_CDC_weekly.describe()\n",
    "us_weekly_sum.drop(['week_num'], axis = 1, inplace = True)\n",
    "us_weekly_sum.drop(['count'], inplace = True)\n",
    "us_weekly_sum"
   ]
  },
  {
   "cell_type": "code",
   "execution_count": 21,
   "metadata": {},
   "outputs": [
    {
     "data": {
      "image/png": "[encoded data removed]",
      "text/plain": [
       "<Figure size 432x288 with 1 Axes>"
      ]
     },
     "metadata": {
      "needs_background": "light"
     },
     "output_type": "display_data"
    }
   ],
   "source": [
    "#Visualising US weekly distribution of new cases\n",
    "plt.boxplot(us_weekly_sum['%NewCases'], vert = False)\n",
    "plt.title('% of Population with New Cases: US Weekly Distribution')\n",
    "plt.xlabel('Positive %')\n",
    "plt.ylabel('US')\n",
    "plt.show()"
   ]
  },
  {
   "cell_type": "code",
   "execution_count": 22,
   "metadata": {},
   "outputs": [
    {
     "data": {
      "text/html": [
       "<div>\n",
       "<style scoped>\n",
       "    .dataframe tbody tr th:only-of-type {\n",
       "        vertical-align: middle;\n",
       "    }\n",
       "\n",
       "    .dataframe tbody tr th {\n",
       "        vertical-align: top;\n",
       "    }\n",
       "\n",
       "    .dataframe thead th {\n",
       "        text-align: right;\n",
       "    }\n",
       "</style>\n",
       "<table border=\"1\" class=\"dataframe\">\n",
       "  <thead>\n",
       "    <tr style=\"text-align: right;\">\n",
       "      <th></th>\n",
       "      <th>cases</th>\n",
       "      <th>deaths</th>\n",
       "      <th>Death_Rate</th>\n",
       "      <th>%NewCases</th>\n",
       "      <th>%NewDeaths</th>\n",
       "    </tr>\n",
       "  </thead>\n",
       "  <tbody>\n",
       "    <tr>\n",
       "      <th>mean</th>\n",
       "      <td>477.142857</td>\n",
       "      <td>17.828571</td>\n",
       "      <td>2.123133</td>\n",
       "      <td>0.008218</td>\n",
       "      <td>0.000307</td>\n",
       "    </tr>\n",
       "    <tr>\n",
       "      <th>std</th>\n",
       "      <td>515.781483</td>\n",
       "      <td>29.608709</td>\n",
       "      <td>2.379434</td>\n",
       "      <td>0.008883</td>\n",
       "      <td>0.000510</td>\n",
       "    </tr>\n",
       "    <tr>\n",
       "      <th>min</th>\n",
       "      <td>0.000000</td>\n",
       "      <td>0.000000</td>\n",
       "      <td>0.000000</td>\n",
       "      <td>0.000000</td>\n",
       "      <td>0.000000</td>\n",
       "    </tr>\n",
       "    <tr>\n",
       "      <th>25%</th>\n",
       "      <td>15.500000</td>\n",
       "      <td>0.000000</td>\n",
       "      <td>0.000000</td>\n",
       "      <td>0.000267</td>\n",
       "      <td>0.000000</td>\n",
       "    </tr>\n",
       "    <tr>\n",
       "      <th>50%</th>\n",
       "      <td>291.000000</td>\n",
       "      <td>3.000000</td>\n",
       "      <td>0.881057</td>\n",
       "      <td>0.005012</td>\n",
       "      <td>0.000052</td>\n",
       "    </tr>\n",
       "    <tr>\n",
       "      <th>75%</th>\n",
       "      <td>724.500000</td>\n",
       "      <td>17.000000</td>\n",
       "      <td>4.683038</td>\n",
       "      <td>0.012478</td>\n",
       "      <td>0.000293</td>\n",
       "    </tr>\n",
       "    <tr>\n",
       "      <th>max</th>\n",
       "      <td>1919.000000</td>\n",
       "      <td>99.000000</td>\n",
       "      <td>6.902087</td>\n",
       "      <td>0.033052</td>\n",
       "      <td>0.001705</td>\n",
       "    </tr>\n",
       "  </tbody>\n",
       "</table>\n",
       "</div>"
      ],
      "text/plain": [
       "            cases     deaths  Death_Rate  %NewCases  %NewDeaths\n",
       "mean   477.142857  17.828571    2.123133   0.008218    0.000307\n",
       "std    515.781483  29.608709    2.379434   0.008883    0.000510\n",
       "min      0.000000   0.000000    0.000000   0.000000    0.000000\n",
       "25%     15.500000   0.000000    0.000000   0.000267    0.000000\n",
       "50%    291.000000   3.000000    0.881057   0.005012    0.000052\n",
       "75%    724.500000  17.000000    4.683038   0.012478    0.000293\n",
       "max   1919.000000  99.000000    6.902087   0.033052    0.001705"
      ]
     },
     "execution_count": 22,
     "metadata": {},
     "output_type": "execute_result"
    }
   ],
   "source": [
    "#Create a new summary table for DK weekly case and death counts\n",
    "dk_weekly_sum = dk_CDC_weekly.describe()\n",
    "dk_weekly_sum.drop(['week_num'], axis = 1, inplace = True)\n",
    "dk_weekly_sum.drop(['count'], inplace = True)\n",
    "dk_weekly_sum"
   ]
  },
  {
   "cell_type": "code",
   "execution_count": 23,
   "metadata": {},
   "outputs": [
    {
     "data": {
      "image/png": "[encoded data removed]",
      "text/plain": [
       "<Figure size 432x288 with 1 Axes>"
      ]
     },
     "metadata": {
      "needs_background": "light"
     },
     "output_type": "display_data"
    }
   ],
   "source": [
    "#Visualising DK weekly distribution of new cases\n",
    "plt.boxplot(dk_weekly_sum['%NewCases'], vert = False)\n",
    "plt.title('% of Population with New Cases: DK Weekly Distribution')\n",
    "plt.xlabel('Positive %')\n",
    "plt.ylabel('DK')\n",
    "plt.show()"
   ]
  },
  {
   "cell_type": "code",
   "execution_count": 24,
   "metadata": {},
   "outputs": [
    {
     "data": {
      "image/png": "[encoded data removed]",
      "text/plain": [
       "<Figure size 432x288 with 1 Axes>"
      ]
     },
     "metadata": {
      "needs_background": "light"
     },
     "output_type": "display_data"
    }
   ],
   "source": [
    "#Comparative weekly distribution of new cases boxplot: Used in paper\n",
    "plt.boxplot([us_weekly_sum['%NewCases'],dk_weekly_sum['%NewCases']], positions=[1,2], labels = ['US', 'DK'], vert = False)\n",
    "plt.title('% of Population with New Cases: Weekly Distribution')\n",
    "plt.xlabel('Positive %')\n",
    "plt.show()"
   ]
  },
  {
   "cell_type": "code",
   "execution_count": 25,
   "metadata": {},
   "outputs": [
    {
     "data": {
      "image/png": "[encoded data removed]",
      "text/plain": [
       "<Figure size 432x288 with 1 Axes>"
      ]
     },
     "metadata": {
      "needs_background": "light"
     },
     "output_type": "display_data"
    }
   ],
   "source": [
    "#Comparative weekly distribution of death rate boxplot: not used in paper\n",
    "plt.boxplot([us_weekly_sum['Death_Rate'],dk_weekly_sum['Death_Rate']], positions=[1,2], labels = ['US', 'DK'], vert = False)\n",
    "plt.title('Death Rate: Weekly Distribution')\n",
    "plt.xlabel('Death Rate (as a %)')\n",
    "plt.show()"
   ]
  },
  {
   "cell_type": "markdown",
   "metadata": {},
   "source": [
    "### 2. Methods: Descriptive Time Series\n",
    "#### Weekly % New Cases Comparison"
   ]
  },
  {
   "cell_type": "code",
   "execution_count": 26,
   "metadata": {},
   "outputs": [
    {
     "data": {
      "image/png": "[encoded data removed]",
      "text/plain": [
       "<Figure size 432x288 with 1 Axes>"
      ]
     },
     "metadata": {
      "needs_background": "light"
     },
     "output_type": "display_data"
    }
   ],
   "source": [
    "#Create a joined table with both US and DK values \n",
    "nc_plot = us_CDC_weekly.join(dk_CDC_weekly, rsuffix = 'DK')\n",
    "nc_plot = nc_plot[['dateRep', 'week_num','%NewCases', '%NewCasesDK']]\n",
    "nc_plot.rename(columns ={'%NewCases':'US','%NewCasesDK': 'DK'}, inplace = True)\n",
    "\n",
    "plt.plot(nc_plot['US'],ls = '--',label = 'US', color = 'Blue')\n",
    "plt.plot(nc_plot['DK'], label = 'DK', color = 'Red')\n",
    "plt.legend(loc = 'upper left')\n",
    "plt.title('Weekly New Case % Comparison')\n",
    "plt.xlabel('Number of Weeks since Jan 1, 2020')\n",
    "plt.ylabel('% of Population Positive')\n",
    "plt.show()"
   ]
  },
  {
   "cell_type": "markdown",
   "metadata": {},
   "source": [
    "#### Weekly Death Rate Comparison"
   ]
  },
  {
   "cell_type": "code",
   "execution_count": 27,
   "metadata": {},
   "outputs": [
    {
     "data": {
      "image/png": "[encoded data removed]",
      "text/plain": [
       "<Figure size 432x288 with 1 Axes>"
      ]
     },
     "metadata": {
      "needs_background": "light"
     },
     "output_type": "display_data"
    }
   ],
   "source": [
    "#Create a joined table with both US and DK values \n",
    "dr_plot = us_CDC_weekly.join(dk_CDC_weekly, rsuffix = 'DK')\n",
    "dr_plot = dr_plot[['dateRep', 'week_num','Death_Rate', 'Death_RateDK']]\n",
    "dr_plot.rename(columns ={'Death_Rate':'US','Death_RateDK': 'DK'}, inplace = True)\n",
    "\n",
    "plt.plot(dr_plot['US'],ls = '--',label = 'US', color = 'Blue')\n",
    "plt.plot(dr_plot['DK'], label = 'DK', color = 'Red')\n",
    "plt.legend(loc = 'upper left')\n",
    "plt.title('Weekly Death Rate Comparison')\n",
    "plt.xlabel('Number of Weeks since Jan 1, 2020')\n",
    "plt.ylabel('Death Rate %')\n",
    "plt.show()"
   ]
  },
  {
   "cell_type": "markdown",
   "metadata": {},
   "source": [
    "### 2. Methods: Segmented Regression\n",
    "#### Introducing the segments"
   ]
  },
  {
   "cell_type": "code",
   "execution_count": 28,
   "metadata": {},
   "outputs": [],
   "source": [
    "#Creates the segment column in weekly aggregated tables for each country\n",
    "us_CDC_weekly['Seg'] = 4\n",
    "us_CDC_weekly.loc[(us_CDC_weekly['week_num'] >=23) & (us_CDC_weekly['week_num'] <= 29), 'Seg'] = 3\n",
    "us_CDC_weekly.loc[(us_CDC_weekly['week_num'] >=14) & (us_CDC_weekly['week_num'] <= 23), 'Seg'] = 2\n",
    "us_CDC_weekly.loc[(us_CDC_weekly['week_num'] >= 6) & (us_CDC_weekly['week_num'] <= 14), 'Seg'] = 1\n",
    "us_CDC_weekly.loc[(us_CDC_weekly['week_num'] >= 0) & (us_CDC_weekly['week_num'] <= 6), 'Seg'] = 0\n",
    "\n",
    "dk_CDC_weekly['Seg'] = 4\n",
    "dk_CDC_weekly.loc[(dk_CDC_weekly['week_num'] >=23) & (dk_CDC_weekly['week_num'] <= 29), 'Seg'] = 3\n",
    "dk_CDC_weekly.loc[(dk_CDC_weekly['week_num'] >=14) & (dk_CDC_weekly['week_num'] <= 23), 'Seg'] = 2\n",
    "dk_CDC_weekly.loc[(dk_CDC_weekly['week_num'] >= 6) & (dk_CDC_weekly['week_num'] <= 14), 'Seg'] = 1\n",
    "dk_CDC_weekly.loc[(dk_CDC_weekly['week_num'] >= 0) & (dk_CDC_weekly['week_num'] <= 6), 'Seg'] = 0"
   ]
  },
  {
   "cell_type": "code",
   "execution_count": 29,
   "metadata": {},
   "outputs": [
    {
     "data": {
      "image/png": "[encoded data removed]",
      "text/plain": [
       "<Figure size 432x288 with 1 Axes>"
      ]
     },
     "metadata": {
      "needs_background": "light"
     },
     "output_type": "display_data"
    }
   ],
   "source": [
    "#Re-plot weekly new case % comparison including segment breakdowns\n",
    "plt.plot(nc_plot['US'],ls = '--',label = 'US', color = 'Blue')\n",
    "plt.plot(nc_plot['DK'], label = 'DK', color = 'Red')\n",
    "plt.legend(loc = 'upper left')\n",
    "plt.title('Segmented Weekly New Case % Comparison')\n",
    "plt.xlabel('Number of Weeks since Jan 1, 2020')\n",
    "plt.ylabel('% of Population Positive')\n",
    "plt.axvline(x=6) #Segment 0 end \n",
    "plt.axvline(x=14) #Segment 1 end \n",
    "plt.axvline(x=23) #Segment 2 end \n",
    "plt.axvline(x=29) #Segment 3 end \n",
    "plt.show()"
   ]
  },
  {
   "cell_type": "code",
   "execution_count": 30,
   "metadata": {},
   "outputs": [
    {
     "data": {
      "image/png": "[encoded data removed]",
      "text/plain": [
       "<Figure size 432x288 with 1 Axes>"
      ]
     },
     "metadata": {
      "needs_background": "light"
     },
     "output_type": "display_data"
    }
   ],
   "source": [
    "#Re-plot weekly death rate comparison including segment breakdowns\n",
    "plt.plot(dr_plot['US'],ls = '--',label = 'US', color = 'Blue')\n",
    "plt.plot(dr_plot['DK'], label = 'DK', color = 'Red')\n",
    "plt.legend(loc = 'upper left')\n",
    "plt.title('Segmented Weekly Death Rate Comparison')\n",
    "plt.xlabel('Number of Weeks since Jan 1, 2020')\n",
    "plt.ylabel('Death Rate %')\n",
    "plt.axvline(x=6) #Segment 0 end \n",
    "plt.axvline(x=14) #Segment 1 end \n",
    "plt.axvline(x=23) #Segment 2 end \n",
    "plt.axvline(x=29) #Segment 3 end \n",
    "plt.show()"
   ]
  },
  {
   "cell_type": "code",
   "execution_count": 31,
   "metadata": {},
   "outputs": [
    {
     "data": {
      "image/png": "[encoded data removed]",
      "text/plain": [
       "<Figure size 432x288 with 1 Axes>"
      ]
     },
     "metadata": {
      "needs_background": "light"
     },
     "output_type": "display_data"
    },
    {
     "name": "stdout",
     "output_type": "stream",
     "text": [
      "Shapiro-Wilks: (0.8892138600349426, 0.0020537746604532003)  : Not Normal\n"
     ]
    },
    {
     "data": {
      "image/png": "[encoded data removed]",
      "text/plain": [
       "<Figure size 432x288 with 1 Axes>"
      ]
     },
     "metadata": {
      "needs_background": "light"
     },
     "output_type": "display_data"
    },
    {
     "name": "stdout",
     "output_type": "stream",
     "text": [
      "Shapiro-Wilks: (0.898413360118866, 0.0035852266009896994)  : Not Normal\n"
     ]
    },
    {
     "data": {
      "image/png": "[encoded data removed]",
      "text/plain": [
       "<Figure size 432x288 with 1 Axes>"
      ]
     },
     "metadata": {
      "needs_background": "light"
     },
     "output_type": "display_data"
    },
    {
     "name": "stdout",
     "output_type": "stream",
     "text": [
      "Shapiro-Wilks: (0.8452640771865845, 0.0001803846244001761)  : Not Normal\n"
     ]
    },
    {
     "data": {
      "image/png": "[encoded data removed]",
      "text/plain": [
       "<Figure size 432x288 with 1 Axes>"
      ]
     },
     "metadata": {
      "needs_background": "light"
     },
     "output_type": "display_data"
    },
    {
     "name": "stdout",
     "output_type": "stream",
     "text": [
      "Shapiro-Wilks: (0.8062213659286499, 2.7080955987912603e-05)  : Not Normal\n"
     ]
    }
   ],
   "source": [
    "#Are %NewCases and Death_Rate normally distributed? \n",
    "\n",
    "plt.hist(us_CDC_weekly['%NewCases'])\n",
    "plt.title('US New Weekly Cases Percent Distribution')\n",
    "plt.xlabel('Percent of Population with New Cases (Weekly)')\n",
    "plt.show()\n",
    "print('Shapiro-Wilks:',stats.shapiro(us_CDC_weekly['%NewCases']),' : Not Normal')\n",
    "\n",
    "plt.hist(us_CDC_weekly['Death_Rate'])\n",
    "plt.title('US Weekly Death Rate Distribution')\n",
    "plt.xlabel('Death Rate (%)')\n",
    "plt.show()\n",
    "print('Shapiro-Wilks:', stats.shapiro(us_CDC_weekly['Death_Rate']),' : Not Normal')\n",
    "\n",
    "plt.hist(dk_CDC_weekly['%NewCases'])\n",
    "plt.title('DK New Weekly Cases Percent Distribution')\n",
    "plt.xlabel('Percent of Population with New Cases (Weekly)')\n",
    "plt.show()\n",
    "print('Shapiro-Wilks:',stats.shapiro(dk_CDC_weekly['%NewCases']),' : Not Normal')\n",
    "\n",
    "plt.hist(dk_CDC_weekly['%NewCases'])\n",
    "plt.title('DK Weekly Death Rate Distribution')\n",
    "plt.xlabel('Death Rate (%)')\n",
    "plt.show()\n",
    "print('Shapiro-Wilks:',stats.shapiro(dk_CDC_weekly['Death_Rate']),' : Not Normal')"
   ]
  },
  {
   "cell_type": "markdown",
   "metadata": {},
   "source": [
    "#### United States"
   ]
  },
  {
   "cell_type": "code",
   "execution_count": 32,
   "metadata": {},
   "outputs": [],
   "source": [
    "#Create individual sub-tables for each segment in order to fit different regression lines\n",
    "seg0 = us_CDC_weekly[us_CDC_weekly['Seg'] == 0]\n",
    "seg1 = us_CDC_weekly[us_CDC_weekly['Seg'] == 1]\n",
    "seg2 = us_CDC_weekly[us_CDC_weekly['Seg'] == 2]\n",
    "seg3 = us_CDC_weekly[us_CDC_weekly['Seg'] == 3]\n",
    "seg4 = us_CDC_weekly[us_CDC_weekly['Seg'] == 4]"
   ]
  },
  {
   "cell_type": "code",
   "execution_count": 33,
   "metadata": {},
   "outputs": [
    {
     "name": "stdout",
     "output_type": "stream",
     "text": [
      "Slope 1: 0.01004\n",
      "R-2:  0.7933490958830334\n",
      "MEANING: In segement 1 in the US, we expect to see an increase in new case percent by  0.01004\n",
      "Slope 2: -0.00243\n",
      "R-2:  0.759457964449432\n",
      "MEANING: In segement 2 in the US, we expect to see a decrease in weekly new case percent by  -0.00243\n",
      "Slope 3: 0.01853\n",
      "R-2:  0.9522475275955082\n",
      "MEANING: In segement 3 in the US, we expect to see an increase in weekly new case percent by  0.01853\n",
      "Slope 4: -0.0112\n",
      "R-2:  0.9242658260090199\n",
      "MEANING: In segement 4 in the US, we expect to see a decrease in weekly new case percent by  -0.0112\n"
     ]
    }
   ],
   "source": [
    "#Fit linear regression lines for Weekly new cases in each individual segment (besides segment 0)\n",
    "#error = Total squared error\n",
    "#R2 = 1 - RSS/TSS\n",
    "\n",
    "slope1, inter1 = np.polyfit(seg1['week_num'], seg1['%NewCases'], 1)\n",
    "x1 = [7,8,9,10,11,12,13,14] #weeks in segment 1\n",
    "val1 = [slope1 * i + inter1 for i in x1]\n",
    "error1 = [(seg1['%NewCases'][i] - np.average(seg1['%NewCases']))**2 for i in x1]\n",
    "print('Slope 1:', round(slope1,5)) \n",
    "#print('Residual sum of squares: ', round(float(np.polyfit(seg1['week_num'], seg1['%NewCases'], 1,full = True)[1]),4))\n",
    "print('R-2: ', 1-(round(float(np.polyfit(seg1['week_num'], seg1['%NewCases'], 1,full = True)[1]),4)/np.sum(error1)))\n",
    "print('MEANING: In segement 1 in the US, we expect to see an increase in new case percent by ',round(slope1,5))\n",
    "\n",
    "slope2, inter2 = np.polyfit(seg2['week_num'], seg2['%NewCases'], 1)\n",
    "x2 = [15,16,17,18,19,20,21,22,23] #weeks in segment 2\n",
    "val2 = [slope2 * i + inter2 for i in x2]\n",
    "error2 = [(seg2['%NewCases'][i] - np.average(seg2['%NewCases']))**2 for i in x2]\n",
    "print('Slope 2:', round(slope2,5)) \n",
    "#print('Residual sum of squares: ', round(float(np.polyfit(seg2['week_num'], seg2['%NewCases'], 1,full = True)[1]),4))\n",
    "print('R-2: ', 1-(round(float(np.polyfit(seg2['week_num'], seg2['%NewCases'], 1,full = True)[1]),4)/np.sum(error2)))\n",
    "print('MEANING: In segement 2 in the US, we expect to see a decrease in weekly new case percent by ', round(slope2, 5))\n",
    "\n",
    "slope3, inter3 = np.polyfit(seg3['week_num'], seg3['%NewCases'], 1)\n",
    "x3 = [24,25,26,27,28,29] #weeks in segment 3\n",
    "val3 = [slope3 * i + inter3 for i in x3]\n",
    "error3 = [(seg3['%NewCases'][i] - np.average(seg3['%NewCases']))**2 for i in x3]\n",
    "print('Slope 3:', round(slope3,5)) \n",
    "#print('Residual sum of squares: ', round(float(np.polyfit(seg3['week_num'], seg3['%NewCases'], 1,full = True)[1]),4))\n",
    "print('R-2: ', 1-(round(float(np.polyfit(seg3['week_num'], seg3['%NewCases'], 1,full = True)[1]),4)/np.sum(error3)))\n",
    "print('MEANING: In segement 3 in the US, we expect to see an increase in weekly new case percent by ', round(slope3,5))\n",
    "\n",
    "slope4, inter4 = np.polyfit(seg4['week_num'], seg4['%NewCases'], 1)\n",
    "x4 = [30,31,32,33,34] #weeks in segment 4\n",
    "val4 = [slope4 * i + inter4 for i in x4]\n",
    "error4 = [(seg4['%NewCases'][i] - np.average(seg4['%NewCases']))**2 for i in x4]\n",
    "print('Slope 4:', round(slope4,5))\n",
    "#print('Residual sum of squares: ', round(float(np.polyfit(seg4['week_num'], seg4['%NewCases'], 1,full = True)[1]),4))\n",
    "print('R-2: ', 1-(round(float(np.polyfit(seg4['week_num'], seg4['%NewCases'], 1,full = True)[1]),4)/np.sum(error4)))\n",
    "print('MEANING: In segement 4 in the US, we expect to see a decrease in weekly new case percent by ', round(slope4, 5))"
   ]
  },
  {
   "cell_type": "code",
   "execution_count": 34,
   "metadata": {},
   "outputs": [
    {
     "data": {
      "image/png": "[encoded data removed]",
      "text/plain": [
       "<Figure size 432x288 with 1 Axes>"
      ]
     },
     "metadata": {
      "needs_background": "light"
     },
     "output_type": "display_data"
    },
    {
     "name": "stdout",
     "output_type": "stream",
     "text": [
      "Shapiro-Wilks: (0.917967677116394, 0.4135909378528595)  : Normal\n"
     ]
    },
    {
     "data": {
      "image/png": "[encoded data removed]",
      "text/plain": [
       "<Figure size 432x288 with 1 Axes>"
      ]
     },
     "metadata": {
      "needs_background": "light"
     },
     "output_type": "display_data"
    },
    {
     "name": "stdout",
     "output_type": "stream",
     "text": [
      "Shapiro-Wilks: (0.9753977656364441, 0.9365465641021729)  : Normal\n"
     ]
    },
    {
     "data": {
      "image/png": "[encoded data removed]",
      "text/plain": [
       "<Figure size 432x288 with 1 Axes>"
      ]
     },
     "metadata": {
      "needs_background": "light"
     },
     "output_type": "display_data"
    },
    {
     "name": "stdout",
     "output_type": "stream",
     "text": [
      "Shapiro-Wilks: (0.9560784697532654, 0.7890655994415283)  : Normal\n"
     ]
    },
    {
     "data": {
      "image/png": "[encoded data removed]",
      "text/plain": [
       "<Figure size 432x288 with 1 Axes>"
      ]
     },
     "metadata": {
      "needs_background": "light"
     },
     "output_type": "display_data"
    },
    {
     "name": "stdout",
     "output_type": "stream",
     "text": [
      "Shapiro-Wilks: (0.8193918466567993, 0.11551164090633392)  : Normal\n"
     ]
    }
   ],
   "source": [
    "#Are the residuals normally distributed?\n",
    "seg1['predicited'] = val1\n",
    "seg1['resid'] = seg1['predicited'] - seg1['%NewCases']\n",
    "plt.scatter(seg1['%NewCases'],seg1['resid'])\n",
    "plt.title('Residual Plot: US %NewCases Seg1')\n",
    "plt.xlabel('Actual Value')\n",
    "plt.ylabel('Residual')\n",
    "plt.axhline(0)\n",
    "plt.show()\n",
    "print('Shapiro-Wilks:',stats.shapiro(seg1['resid']),' : Normal')\n",
    "\n",
    "seg2['predicited'] = val2\n",
    "seg2['resid'] = seg2['predicited'] - seg2['%NewCases']\n",
    "plt.scatter(seg2['%NewCases'],seg2['resid'])\n",
    "plt.title('Residual Plot: US %NewCases Seg2')\n",
    "plt.xlabel('Actual Value')\n",
    "plt.ylabel('Residual')\n",
    "plt.axhline(0)\n",
    "plt.show()\n",
    "print('Shapiro-Wilks:',stats.shapiro(seg2['resid']),' : Normal')\n",
    "\n",
    "seg3['predicited'] = val3\n",
    "seg3['resid'] = seg3['predicited'] - seg3['%NewCases']\n",
    "plt.scatter(seg3['%NewCases'],seg3['resid'])\n",
    "plt.title('Residual Plot: US %NewCases Seg3')\n",
    "plt.xlabel('Actual Value')\n",
    "plt.ylabel('Residual')\n",
    "plt.axhline(0)\n",
    "plt.show()\n",
    "print('Shapiro-Wilks:',stats.shapiro(seg3['resid']),' : Normal')\n",
    "\n",
    "seg4['predicited'] = val4\n",
    "seg4['resid'] = seg4['predicited'] - seg4['%NewCases']\n",
    "plt.scatter(seg4['%NewCases'],seg4['resid'])\n",
    "plt.title('Residual Plot: US %NewCases Seg4')\n",
    "plt.xlabel('Actual Value')\n",
    "plt.ylabel('Residual')\n",
    "plt.axhline(0)\n",
    "plt.show()\n",
    "print('Shapiro-Wilks:',stats.shapiro(seg4['resid']),' : Normal')"
   ]
  },
  {
   "cell_type": "code",
   "execution_count": 35,
   "metadata": {},
   "outputs": [
    {
     "data": {
      "image/png": "[encoded data removed]",
      "text/plain": [
       "<Figure size 432x288 with 1 Axes>"
      ]
     },
     "metadata": {
      "needs_background": "light"
     },
     "output_type": "display_data"
    }
   ],
   "source": [
    "#Plot Weekly Percent of new cases with regression slopes for each segment\n",
    "plt.plot(us_CDC_weekly['%NewCases'])\n",
    "plt.scatter(us_CDC_weekly['week_num'], us_CDC_weekly['%NewCases'])\n",
    "plt.title('Percent of New Weekly Cases: US Time Series')\n",
    "plt.ylabel('% New Weekly Cases')\n",
    "plt.xlabel('Number of Weeks since Jan 1, 2020')\n",
    "plt.axvline(x=6.5, color = 'black', ls = '--')\n",
    "plt.axvline(x=14.5, color = 'black', ls = '--')\n",
    "plt.axvline(x=23.5, color = 'black', ls = '--')\n",
    "plt.axvline(x=29.5, color = 'black', ls = '--')\n",
    "plt.ylim(-0.01, .16)\n",
    "plt.plot(x1, val1, label = round(slope1,5))\n",
    "plt.plot(x2, val2, label = round(slope2,5))\n",
    "plt.plot(x3, val3, label = round(slope3,5))\n",
    "plt.plot(x4, val4, label = round(slope4,5))\n",
    "plt.legend()\n",
    "plt.show()"
   ]
  },
  {
   "cell_type": "code",
   "execution_count": 36,
   "metadata": {},
   "outputs": [
    {
     "name": "stdout",
     "output_type": "stream",
     "text": [
      "Slope 1: 0.394\n",
      "R-2:  0.2844080909262605\n",
      "MEANING: In segement 1 in the US, we expect to see an increase in weekly death rate by  0.394\n",
      "Slope 2: -0.604\n",
      "R-2:  0.938579454688701\n",
      "MEANING: In segement 2 in the US, we expect to see a decrease in weekly death rate by  -0.604\n",
      "Slope 3: -0.242\n",
      "R-2:  0.6578496197230166\n",
      "MEANING: In segement 3 in the US, we expect to see a decrease in weekly death rate by  -0.242\n",
      "Slope 4: 0.089\n",
      "R-2:  0.608908842994785\n",
      "MEANING: In segement 4 in the US, we expect to see an increase in weekly death rate by  0.089\n"
     ]
    }
   ],
   "source": [
    "#Fit linear regression lines for weekly death rate in each segment \n",
    "#error = Total squared error\n",
    "#R2 = 1 - RSS/TSS\n",
    "\n",
    "slope1, inter1 = np.polyfit(seg1['week_num'], seg1['Death_Rate'], 1)\n",
    "x1 = [7,8,9,10,11,12,13,14]\n",
    "val1 = [slope1 * i + inter1 for i in x1]\n",
    "error1 = [(seg1['Death_Rate'][i] - np.average(seg1['Death_Rate']))**2 for i in x1]\n",
    "print('Slope 1:', round(slope1,3)) \n",
    "#print('Residual sum of squares: ', round(float(np.polyfit(seg1['week_num'], seg1['Death_Rate'], 1,full = True)[1]),4))\n",
    "print('R-2: ',1-(round(float(np.polyfit(seg1['week_num'], seg1['Death_Rate'], 1,full = True)[1]),4)/np.sum(error1)))\n",
    "print('MEANING: In segement 1 in the US, we expect to see an increase in weekly death rate by ', round(slope1,3))\n",
    "\n",
    "slope2, inter2 = np.polyfit(seg2['week_num'], seg2['Death_Rate'], 1)\n",
    "x2 = [15,16,17,18,19,20,21,22,23]\n",
    "val2 = [slope2 * i + inter2 for i in x2]\n",
    "error2 = [(seg2['Death_Rate'][i] - np.average(seg2['Death_Rate']))**2 for i in x2]\n",
    "print('Slope 2:', round(slope2,3)) \n",
    "#print('Residual sum of squares: ', round(float(np.polyfit(seg2['week_num'], seg2['Death_Rate'], 1,full = True)[1]),4))\n",
    "print('R-2: ',1-(round(float(np.polyfit(seg2['week_num'], seg2['Death_Rate'], 1,full = True)[1]),4)/np.sum(error2)))\n",
    "print('MEANING: In segement 2 in the US, we expect to see a decrease in weekly death rate by ', round(slope2,3))\n",
    "\n",
    "slope3, inter3 = np.polyfit(seg3['week_num'], seg3['Death_Rate'], 1)\n",
    "x3 = [24,25,26,27,28,29]\n",
    "val3 = [slope3 * i + inter3 for i in x3]\n",
    "error3 = [(seg3['Death_Rate'][i] - np.average(seg3['Death_Rate']))**2 for i in x3]\n",
    "print('Slope 3:', round(slope3,3)) \n",
    "#print('Residual sum of squares: ', round(float(np.polyfit(seg3['week_num'], seg3['Death_Rate'], 1,full = True)[1]),4))\n",
    "print('R-2: ',1-(round(float(np.polyfit(seg3['week_num'], seg3['Death_Rate'], 1,full = True)[1]),4)/np.sum(error3)))\n",
    "print('MEANING: In segement 3 in the US, we expect to see a decrease in weekly death rate by ', round(slope3,3))\n",
    "\n",
    "slope4, inter4 = np.polyfit(seg4['week_num'], seg4['Death_Rate'], 1)\n",
    "x4 = [30,31,32,33,34]\n",
    "val4 = [slope4 * i + inter4 for i in x4]\n",
    "error4 = [(seg4['Death_Rate'][i] - np.average(seg4['Death_Rate']))**2 for i in x4]\n",
    "print('Slope 4:', round(slope4,3))\n",
    "#print('Residual sum of squares: ', round(float(np.polyfit(seg4['week_num'], seg4['Death_Rate'], 1,full = True)[1]),4))\n",
    "print('R-2: ',1-(round(float(np.polyfit(seg4['week_num'], seg4['Death_Rate'], 1,full = True)[1]),4)/np.sum(error4)))\n",
    "print('MEANING: In segement 4 in the US, we expect to see an increase in weekly death rate by ', round(slope4,3)) "
   ]
  },
  {
   "cell_type": "code",
   "execution_count": 37,
   "metadata": {},
   "outputs": [
    {
     "data": {
      "image/png": "[encoded data removed]",
      "text/plain": [
       "<Figure size 432x288 with 1 Axes>"
      ]
     },
     "metadata": {
      "needs_background": "light"
     },
     "output_type": "display_data"
    },
    {
     "name": "stdout",
     "output_type": "stream",
     "text": [
      "Shapiro-Wilks: (0.8824471235275269, 0.19871927797794342)  : Normal\n"
     ]
    },
    {
     "data": {
      "image/png": "[encoded data removed]",
      "text/plain": [
       "<Figure size 432x288 with 1 Axes>"
      ]
     },
     "metadata": {
      "needs_background": "light"
     },
     "output_type": "display_data"
    },
    {
     "name": "stdout",
     "output_type": "stream",
     "text": [
      "Shapiro-Wilks: (0.9682088494300842, 0.8789917826652527)  : Normal\n"
     ]
    },
    {
     "data": {
      "image/png": "[encoded data removed]",
      "text/plain": [
       "<Figure size 432x288 with 1 Axes>"
      ]
     },
     "metadata": {
      "needs_background": "light"
     },
     "output_type": "display_data"
    },
    {
     "name": "stdout",
     "output_type": "stream",
     "text": [
      "Shapiro-Wilks: (0.9364258050918579, 0.630553662776947)  : Normal\n"
     ]
    },
    {
     "data": {
      "image/png": "[encoded data removed]",
      "text/plain": [
       "<Figure size 432x288 with 1 Axes>"
      ]
     },
     "metadata": {
      "needs_background": "light"
     },
     "output_type": "display_data"
    },
    {
     "name": "stdout",
     "output_type": "stream",
     "text": [
      "Shapiro-Wilks: (0.8903805017471313, 0.3590202331542969)  : Normal\n"
     ]
    }
   ],
   "source": [
    "#Are the residuals normally distributed?\n",
    "seg1['predicited'] = val1\n",
    "seg1['resid'] = seg1['predicited'] - seg1['Death_Rate']\n",
    "plt.scatter(seg1['Death_Rate'],seg1['resid'])\n",
    "plt.title('Residual Plot: US Death Rate Seg1')\n",
    "plt.xlabel('Actual Value')\n",
    "plt.ylabel('Residual')\n",
    "plt.axhline(0)\n",
    "plt.show()\n",
    "print('Shapiro-Wilks:',stats.shapiro(seg1['resid']),' : Normal')\n",
    "\n",
    "seg2['predicited'] = val2\n",
    "seg2['resid'] = seg2['predicited'] - seg2['Death_Rate']\n",
    "plt.scatter(seg1['Death_Rate'],seg1['resid'])\n",
    "plt.title('Residual Plot: US Death Rate Seg2')\n",
    "plt.xlabel('Actual Value')\n",
    "plt.ylabel('Residual')\n",
    "plt.axhline(0)\n",
    "plt.show()\n",
    "print('Shapiro-Wilks:',stats.shapiro(seg2['resid']),' : Normal')\n",
    "\n",
    "seg3['predicited'] = val3\n",
    "seg3['resid'] = seg3['predicited'] - seg3['Death_Rate']\n",
    "plt.scatter(seg3['Death_Rate'],seg3['resid'])\n",
    "plt.title('Residual Plot: US Death Rate Seg3')\n",
    "plt.xlabel('Actual Value')\n",
    "plt.ylabel('Residual')\n",
    "plt.axhline(0)\n",
    "plt.show()\n",
    "print('Shapiro-Wilks:',stats.shapiro(seg3['resid']),' : Normal')\n",
    "\n",
    "seg4['predicited'] = val4\n",
    "seg4['resid'] = seg4['predicited'] - seg4['Death_Rate']\n",
    "plt.scatter(seg4['Death_Rate'],seg4['resid'])\n",
    "plt.title('Residual Plot: US Death Rate Seg4')\n",
    "plt.xlabel('Actual Value')\n",
    "plt.ylabel('Residual')\n",
    "plt.axhline(0)\n",
    "plt.show()\n",
    "print('Shapiro-Wilks:',stats.shapiro(seg4['resid']),' : Normal')"
   ]
  },
  {
   "cell_type": "code",
   "execution_count": 38,
   "metadata": {},
   "outputs": [
    {
     "data": {
      "image/png": "[encoded data removed]",
      "text/plain": [
       "<Figure size 432x288 with 1 Axes>"
      ]
     },
     "metadata": {
      "needs_background": "light"
     },
     "output_type": "display_data"
    }
   ],
   "source": [
    "#Plot weekly number of Deaths with regression segments \n",
    "plt.plot(us_CDC_weekly['Death_Rate'])\n",
    "plt.scatter(us_CDC_weekly['week_num'], us_CDC_weekly['Death_Rate'])\n",
    "plt.title('Weekly Death Rate: US Time Series')\n",
    "plt.ylabel('Death Rate (%)')\n",
    "plt.xlabel('Number of Weeks since Jan 1, 2020')\n",
    "plt.axvline(x=6.5, color = 'black', ls = '--')\n",
    "plt.axvline(x=14.5, color = 'black', ls = '--')\n",
    "plt.axvline(x=23.5, color = 'black', ls = '--')\n",
    "plt.axvline(x=29.5, color = 'black', ls = '--')\n",
    "plt.plot(x1, val1, label = round(slope1,3))\n",
    "plt.plot(x2, val2, label = round(slope2,3))\n",
    "plt.plot(x3, val3, label = round(slope3,3))\n",
    "plt.plot(x4, val4, label = round(slope4,3))\n",
    "plt.legend()\n",
    "plt.show()"
   ]
  },
  {
   "cell_type": "markdown",
   "metadata": {},
   "source": [
    "#### Denmark"
   ]
  },
  {
   "cell_type": "code",
   "execution_count": 39,
   "metadata": {},
   "outputs": [],
   "source": [
    "#Re-create segments for weekly DK tbale\n",
    "seg0 = dk_CDC_weekly[dk_CDC_weekly['Seg'] == 0]\n",
    "seg1 = dk_CDC_weekly[dk_CDC_weekly['Seg'] == 1]\n",
    "seg2 = dk_CDC_weekly[dk_CDC_weekly['Seg'] == 2]\n",
    "seg3 = dk_CDC_weekly[dk_CDC_weekly['Seg'] == 3]\n",
    "seg4 = dk_CDC_weekly[dk_CDC_weekly['Seg'] == 4]"
   ]
  },
  {
   "cell_type": "code",
   "execution_count": 40,
   "metadata": {},
   "outputs": [
    {
     "name": "stdout",
     "output_type": "stream",
     "text": [
      "Slope 1: 0.00513\n",
      "R-2:  0.8568625290733288\n",
      "MEANING: In segement 1 in Denmark, we expect to see an increase in weekly new case percent by  0.00513\n",
      "Slope 2: -0.00246\n",
      "R-2:  0.9503294425727188\n",
      "MEANING: In segement 2 in Denmark, we expect to see a decrease in weekly new case percent by  -0.00246\n",
      "Slope 3: -7e-05\n",
      "R-2:  -0.05697089001333433\n",
      "MEANING: In segement 3 in Denmark, we expect to see a decrease in weekly new case percent by  -7e-05\n",
      "Slope 4: 0.00075\n",
      "R-2:  0.07652376236683611\n",
      "MEANING: In segement 4 in Denmark, we expect to see an increase in weekly new case percent by  0.00075\n"
     ]
    }
   ],
   "source": [
    "#Fit linear regression lines for Weekly new cases in each individual segment (besides segment 0)\n",
    "#error = Total squared error\n",
    "#R2 = 1 - RSS/TSS\n",
    "\n",
    "slope1, inter1 = np.polyfit(seg1['week_num'], seg1['%NewCases'], 1)\n",
    "x1 = [7,8,9,10,11,12,13,14]\n",
    "val1 = [slope1 * i + inter1 for i in x1]\n",
    "error1 = [(seg1['%NewCases'][i] - np.average(seg1['%NewCases']))**2 for i in x1]\n",
    "print('Slope 1:', round(slope1,5)) \n",
    "#print('Residual sum of squares: ', round(float(np.polyfit(seg1['week_num'], seg1['%NewCases'], 1,full = True)[1]),4))\n",
    "print('R-2: ',1-(round(float(np.polyfit(seg1['week_num'], seg1['%NewCases'], 1,full = True)[1]),6)/np.sum(error1)))\n",
    "print('MEANING: In segement 1 in Denmark, we expect to see an increase in weekly new case percent by ', round(slope1,5))\n",
    "\n",
    "slope2, inter2 = np.polyfit(seg2['week_num'], seg2['%NewCases'], 1)\n",
    "x2 = [15,16,17,18,19,20,21,22,23]\n",
    "val2 = [slope2 * i + inter2 for i in x2]\n",
    "error2 = [(seg2['%NewCases'][i] - np.average(seg2['%NewCases']))**2 for i in x2]\n",
    "print('Slope 2:', round(slope2,5)) \n",
    "#print('Residual sum of squares: ', round(float(np.polyfit(seg2['week_num'], seg2['%NewCases'], 1,full = True)[1]),6))\n",
    "print('R-2: ', 1-(round(float(np.polyfit(seg2['week_num'], seg2['%NewCases'], 1,full = True)[1]),6)/np.sum(error2)))\n",
    "print('MEANING: In segement 2 in Denmark, we expect to see a decrease in weekly new case percent by ', round(slope2,5))\n",
    "\n",
    "slope3, inter3 = np.polyfit(seg3['week_num'], seg3['%NewCases'], 1)\n",
    "x3 = [24,25,26,27,28,29]\n",
    "val3 = [slope3 * i + inter3 for i in x3]\n",
    "error3 = [(seg3['%NewCases'][i] - np.average(seg3['%NewCases']))**2 for i in x3]\n",
    "print('Slope 3:', round(slope3,5)) \n",
    "#print('Residual sum of squares: ', round(float(np.polyfit(seg3['week_num'], seg3['%NewCases'], 1,full = True)[1]),6))\n",
    "print('R-2: ', 1-(round(float(np.polyfit(seg3['week_num'], seg3['%NewCases'], 1,full = True)[1]),6)/np.sum(error3)))\n",
    "print('MEANING: In segement 3 in Denmark, we expect to see a decrease in weekly new case percent by ', round(slope3,5))\n",
    "\n",
    "slope4, inter4 = np.polyfit(seg4['week_num'], seg4['%NewCases'], 1)\n",
    "x4 = [30,31,32,33,34]\n",
    "val4 = [slope4 * i + inter4 for i in x4]\n",
    "error4 = [(seg4['%NewCases'][i] - np.average(seg4['%NewCases']))**2 for i in x4]\n",
    "print('Slope 4:', round(slope4,5))\n",
    "#print('Residual sum of squares: ', round(float(np.polyfit(seg4['week_num'], seg4['%NewCases'], 1,full = True)[1]),4))\n",
    "print('R-2: ', 1-(round(float(np.polyfit(seg4['week_num'], seg4['%NewCases'], 1,full = True)[1]),6)/np.sum(error4)) )\n",
    "print('MEANING: In segement 4 in Denmark, we expect to see an increase in weekly new case percent by ', round(slope4,5))"
   ]
  },
  {
   "cell_type": "code",
   "execution_count": 41,
   "metadata": {},
   "outputs": [
    {
     "data": {
      "image/png": "[encoded data removed]",
      "text/plain": [
       "<Figure size 432x288 with 1 Axes>"
      ]
     },
     "metadata": {
      "needs_background": "light"
     },
     "output_type": "display_data"
    },
    {
     "name": "stdout",
     "output_type": "stream",
     "text": [
      "Shapiro-Wilks: (0.9170361757278442, 0.4062792956829071)  : Normal\n"
     ]
    },
    {
     "data": {
      "image/png": "[encoded data removed]",
      "text/plain": [
       "<Figure size 432x288 with 1 Axes>"
      ]
     },
     "metadata": {
      "needs_background": "light"
     },
     "output_type": "display_data"
    },
    {
     "name": "stdout",
     "output_type": "stream",
     "text": [
      "Shapiro-Wilks: (0.9289038181304932, 0.47097912430763245)  : Normal\n"
     ]
    },
    {
     "data": {
      "image/png": "[encoded data removed]",
      "text/plain": [
       "<Figure size 432x288 with 1 Axes>"
      ]
     },
     "metadata": {
      "needs_background": "light"
     },
     "output_type": "display_data"
    },
    {
     "name": "stdout",
     "output_type": "stream",
     "text": [
      "Shapiro-Wilks: (0.8707873821258545, 0.2293618768453598)  : Normal\n"
     ]
    },
    {
     "data": {
      "image/png": "[encoded data removed]",
      "text/plain": [
       "<Figure size 432x288 with 1 Axes>"
      ]
     },
     "metadata": {
      "needs_background": "light"
     },
     "output_type": "display_data"
    },
    {
     "name": "stdout",
     "output_type": "stream",
     "text": [
      "Shapiro-Wilks: (0.8893314599990845, 0.35375261306762695)  : Normal\n"
     ]
    }
   ],
   "source": [
    "#Are the residuals normally distibuted?\n",
    "seg1['predicited'] = val1\n",
    "seg1['resid'] = seg1['predicited'] - seg1['%NewCases']\n",
    "plt.scatter(seg1['%NewCases'],seg1['resid'])\n",
    "plt.title('Residual Plot: DK %NewCases Seg1')\n",
    "plt.xlabel('Actual Value')\n",
    "plt.ylabel('Residual')\n",
    "plt.axhline(0)\n",
    "plt.show()\n",
    "print('Shapiro-Wilks:',stats.shapiro(seg1['resid']),' : Normal')\n",
    "\n",
    "seg2['predicited'] = val2\n",
    "seg2['resid'] = seg2['predicited'] - seg2['%NewCases']\n",
    "plt.scatter(seg2['%NewCases'],seg2['resid'])\n",
    "plt.title('Residual Plot: DK %NewCases Seg2')\n",
    "plt.xlabel('Actual Value')\n",
    "plt.ylabel('Residual')\n",
    "plt.axhline(0)\n",
    "plt.show()\n",
    "print('Shapiro-Wilks:',stats.shapiro(seg2['resid']),' : Normal')\n",
    "\n",
    "seg3['predicited'] = val3\n",
    "seg3['resid'] = seg3['predicited'] - seg3['%NewCases']\n",
    "plt.scatter(seg3['%NewCases'],seg3['resid'])\n",
    "plt.title('Residual Plot: DK %NewCases Seg3')\n",
    "plt.xlabel('Actual Value')\n",
    "plt.ylabel('Residual')\n",
    "plt.axhline(0)\n",
    "plt.show()\n",
    "print('Shapiro-Wilks:',stats.shapiro(seg3['resid']),' : Normal')\n",
    "\n",
    "seg4['predicited'] = val4\n",
    "seg4['resid'] = seg4['predicited'] - seg4['%NewCases']\n",
    "plt.scatter(seg4['%NewCases'],seg4['resid'])\n",
    "plt.title('Residual Plot: US %NewCases Seg4')\n",
    "plt.xlabel('Actual Value')\n",
    "plt.ylabel('Residual')\n",
    "plt.axhline(0)\n",
    "plt.show()\n",
    "print('Shapiro-Wilks:',stats.shapiro(seg4['resid']),' : Normal')"
   ]
  },
  {
   "cell_type": "code",
   "execution_count": 42,
   "metadata": {},
   "outputs": [
    {
     "data": {
      "image/png": "[encoded data removed]",
      "text/plain": [
       "<Figure size 432x288 with 1 Axes>"
      ]
     },
     "metadata": {
      "needs_background": "light"
     },
     "output_type": "display_data"
    }
   ],
   "source": [
    "#Plot weekly percent of new cases with regression segments\n",
    "plt.plot(dk_CDC_weekly['%NewCases'])\n",
    "plt.scatter(dk_CDC_weekly['week_num'], dk_CDC_weekly['%NewCases'])\n",
    "plt.title('Percent of New Weekly Cases: DK Time Series')\n",
    "plt.ylabel('Percent New Cases (%)')\n",
    "plt.xlabel('Number of Weeks since Jan 1, 2020')\n",
    "plt.axvline(x=6.5, color = 'black', ls = '--')\n",
    "plt.axvline(x=14.5, color = 'black', ls = '--')\n",
    "plt.axvline(x=23.5, color = 'black', ls = '--')\n",
    "plt.axvline(x=29.5, color = 'black', ls = '--')\n",
    "plt.ylim(-.002,.035)\n",
    "plt.plot(x1, val1,label = round(slope1,5))\n",
    "plt.plot(x2, val2,label = round(slope2,5))\n",
    "plt.plot(x3, val3,label = round(slope3,5))\n",
    "plt.plot(x4, val4,label = round(slope4,5))\n",
    "plt.legend()\n",
    "plt.show()"
   ]
  },
  {
   "cell_type": "code",
   "execution_count": 43,
   "metadata": {},
   "outputs": [
    {
     "name": "stdout",
     "output_type": "stream",
     "text": [
      "Slope 1: 0.978\n",
      "R-2:  0.7933655343284289\n",
      "MEANING: In segement 1 in Denmark, we expect to see an increase in death rate of  0.978\n",
      "Slope 2: -0.277\n",
      "R-2:  0.4353756664230276\n",
      "MEAING: In segment 2 in Denmark, we expect to see a decrease in death rate of  -0.277\n",
      "Slope 3: -0.069\n",
      "R-2:  0.036649883348039425\n",
      "MEANING: In segemnt 3 in Denmark, we expect to see a decrease in death rate of  -0.069\n",
      "Slope 4: -0.04\n",
      "R-2:  0.07797299408724245\n",
      "MEANING: In segment 4 in Denmark, we expect to see a decrease in death rate of  -0.04\n"
     ]
    }
   ],
   "source": [
    "#Fit linear regression lines for Weekly death rates in each individual segment (besides segment 0)\n",
    "#error = Total squared error\n",
    "#R2 = 1 - RSS/TSS\n",
    "\n",
    "slope1, inter1 = np.polyfit(seg1['week_num'], seg1['Death_Rate'], 1)\n",
    "x1 = [7,8,9,10,11,12,13,14]\n",
    "val1 = [slope1 * i + inter1 for i in x1]\n",
    "error1 = [(seg1['Death_Rate'][i] - np.average(seg1['Death_Rate']))**2 for i in x1]\n",
    "print('Slope 1:', round(slope1,3)) \n",
    "#print('Residual sum of squares: ', round(float(np.polyfit(seg1['week_num'], seg1['Death_Rate'], 1,full = True)[1]),4))\n",
    "print('R-2: ', 1-(round(float(np.polyfit(seg1['week_num'], seg1['Death_Rate'], 1,full = True)[1]),4)/np.sum(error1)))\n",
    "print('MEANING: In segement 1 in Denmark, we expect to see an increase in death rate of ', round(slope1,3))\n",
    "\n",
    "slope2, inter2 = np.polyfit(seg2['week_num'], seg2['Death_Rate'], 1)\n",
    "x2 = [15,16,17,18,19,20,21,22,23]\n",
    "val2 = [slope2 * i + inter2 for i in x2]\n",
    "error2 = [(seg2['Death_Rate'][i] - np.average(seg2['Death_Rate']))**2 for i in x2]\n",
    "print('Slope 2:', round(slope2,3)) \n",
    "#print('Residual sum of squares: ', round(float(np.polyfit(seg2['week_num'], seg2['Death_Rate'], 1,full = True)[1]),4))\n",
    "print('R-2: ', 1-(round(float(np.polyfit(seg2['week_num'], seg2['Death_Rate'], 1,full = True)[1]),4)/np.sum(error2)) )\n",
    "print('MEAING: In segment 2 in Denmark, we expect to see a decrease in death rate of ', round(slope2,3))\n",
    "\n",
    "slope3, inter3 = np.polyfit(seg3['week_num'], seg3['Death_Rate'], 1)\n",
    "x3 = [24,25,26,27,28,29]\n",
    "val3 = [slope3 * i + inter3 for i in x3]\n",
    "error3 = [(seg3['Death_Rate'][i] - np.average(seg3['Death_Rate']))**2 for i in x3]\n",
    "print('Slope 3:', round(slope3,3)) \n",
    "#print('Residual sum of squares: ', round(float(np.polyfit(seg3['week_num'], seg3['Death_Rate'], 1,full = True)[1]),4))\n",
    "print('R-2: ', 1-(round(float(np.polyfit(seg3['week_num'], seg3['Death_Rate'], 1,full = True)[1]),4)/np.sum(error3)))\n",
    "print('MEANING: In segemnt 3 in Denmark, we expect to see a decrease in death rate of ', round(slope3,3))\n",
    "\n",
    "slope4, inter4 = np.polyfit(seg4['week_num'], seg4['Death_Rate'], 1)\n",
    "x4 = [30,31,32,33,34]\n",
    "val4 = [slope4 * i + inter4 for i in x4]\n",
    "error4 = [(seg4['Death_Rate'][i] - np.average(seg4['Death_Rate']))**2 for i in x4]\n",
    "print('Slope 4:', round(slope4,3))\n",
    "#print('Residual sum of squares: ', round(float(np.polyfit(seg4['week_num'], seg4['Death_Rate'], 1,full = True)[1]),4))\n",
    "print('R-2: ', 1-(round(float(np.polyfit(seg4['week_num'], seg4['Death_Rate'], 1,full = True)[1]),4)/np.sum(error4)))\n",
    "print('MEANING: In segment 4 in Denmark, we expect to see a decrease in death rate of ', round(slope4,3))"
   ]
  },
  {
   "cell_type": "code",
   "execution_count": 44,
   "metadata": {},
   "outputs": [
    {
     "data": {
      "image/png": "[encoded data removed]",
      "text/plain": [
       "<Figure size 432x288 with 1 Axes>"
      ]
     },
     "metadata": {
      "needs_background": "light"
     },
     "output_type": "display_data"
    },
    {
     "name": "stdout",
     "output_type": "stream",
     "text": [
      "Shapiro-Wilks: (0.9874604344367981, 0.9901479482650757)  : Normal\n"
     ]
    },
    {
     "data": {
      "image/png": "[encoded data removed]",
      "text/plain": [
       "<Figure size 432x288 with 1 Axes>"
      ]
     },
     "metadata": {
      "needs_background": "light"
     },
     "output_type": "display_data"
    },
    {
     "name": "stdout",
     "output_type": "stream",
     "text": [
      "Shapiro-Wilks: (0.965718686580658, 0.8558412194252014)  : Normal\n"
     ]
    },
    {
     "data": {
      "image/png": "[encoded data removed]",
      "text/plain": [
       "<Figure size 432x288 with 1 Axes>"
      ]
     },
     "metadata": {
      "needs_background": "light"
     },
     "output_type": "display_data"
    },
    {
     "name": "stdout",
     "output_type": "stream",
     "text": [
      "Shapiro-Wilks: (0.69556725025177, 0.00554939080029726)  : Not Normal\n"
     ]
    },
    {
     "data": {
      "image/png": "[encoded data removed]",
      "text/plain": [
       "<Figure size 432x288 with 1 Axes>"
      ]
     },
     "metadata": {
      "needs_background": "light"
     },
     "output_type": "display_data"
    },
    {
     "name": "stdout",
     "output_type": "stream",
     "text": [
      "Shapiro-Wilks: (0.9770587086677551, 0.9183060526847839)  : Normal\n"
     ]
    }
   ],
   "source": [
    "#Are the residuals normally distributed?\n",
    "seg1['predicited'] = val1\n",
    "seg1['resid'] = seg1['predicited'] - seg1['Death_Rate']\n",
    "plt.scatter(seg1['Death_Rate'],seg1['resid'])\n",
    "plt.title('Residual Plot: DK Death Rate Seg1')\n",
    "plt.xlabel('Actual Value')\n",
    "plt.ylabel('Residual')\n",
    "plt.axhline(0)\n",
    "plt.show()\n",
    "print('Shapiro-Wilks:',stats.shapiro(seg1['resid']),' : Normal')\n",
    "\n",
    "seg2['predicited'] = val2\n",
    "seg2['resid'] = seg2['predicited'] - seg2['Death_Rate']\n",
    "plt.scatter(seg2['Death_Rate'],seg2['resid'])\n",
    "plt.title('Residual Plot: DK Death Rate Seg2')\n",
    "plt.xlabel('Actual Value')\n",
    "plt.ylabel('Residual')\n",
    "plt.axhline(0)\n",
    "plt.show()\n",
    "print('Shapiro-Wilks:',stats.shapiro(seg2['resid']),' : Normal')\n",
    "\n",
    "seg3['predicited'] = val3\n",
    "seg3['resid'] = seg3['predicited'] - seg3['Death_Rate']\n",
    "plt.scatter(seg3['Death_Rate'],seg3['resid'])\n",
    "plt.title('Residual Plot: DK Death Rate Seg3')\n",
    "plt.xlabel('Actual Value')\n",
    "plt.ylabel('Residual')\n",
    "plt.axhline(0)\n",
    "plt.show()\n",
    "print('Shapiro-Wilks:',stats.shapiro(seg3['resid']),' : Not Normal')\n",
    "\n",
    "seg4['predicited'] = val4\n",
    "seg4['resid'] = seg4['predicited'] - seg4['Death_Rate']\n",
    "plt.scatter(seg4['Death_Rate'],seg4['resid'])\n",
    "plt.title('Residual Plot: DK Death Rate Seg4')\n",
    "plt.xlabel('Actual Value')\n",
    "plt.ylabel('Residual')\n",
    "plt.axhline(0)\n",
    "plt.show()\n",
    "print('Shapiro-Wilks:',stats.shapiro(seg4['resid']),' : Normal')"
   ]
  },
  {
   "cell_type": "code",
   "execution_count": 45,
   "metadata": {},
   "outputs": [
    {
     "data": {
      "image/png": "[encoded data removed]",
      "text/plain": [
       "<Figure size 432x288 with 1 Axes>"
      ]
     },
     "metadata": {
      "needs_background": "light"
     },
     "output_type": "display_data"
    }
   ],
   "source": [
    "#Plot weekly death rate with regression segments\n",
    "plt.plot(dk_CDC_weekly['Death_Rate'])\n",
    "plt.scatter(dk_CDC_weekly['week_num'],dk_CDC_weekly['Death_Rate'])\n",
    "plt.title('Weekly Death Rate: DK Time Series')\n",
    "plt.ylabel('Death Rate (%)')\n",
    "plt.xlabel('Number of Weeks since Jan 1, 2020')\n",
    "plt.axvline(x=6.5, color = 'black', ls = '--')\n",
    "plt.axvline(x=14.5, color = 'black', ls = '--')\n",
    "plt.axvline(x=23.5, color = 'black', ls = '--')\n",
    "plt.axvline(x=29.5, color = 'black', ls = '--')\n",
    "plt.ylim(-.5,7.5)\n",
    "plt.plot(x1, val1,label = round(slope1,3))\n",
    "plt.plot(x2, val2,label = round(slope2,3))\n",
    "plt.plot(x3, val3,label = round(slope3,3))\n",
    "plt.plot(x4, val4,label = round(slope4,3))\n",
    "plt.legend()\n",
    "plt.show()"
   ]
  },
  {
   "cell_type": "markdown",
   "metadata": {},
   "source": [
    "### 2. Methods: Statistical Testing\n",
    "##### Note: Uses segmented daily data for a larger sample size\n",
    "\n",
    "   ##### Ho: US = DK (No significant difference)\n",
    "   ##### Ha: US != DK (Significant difference)\n",
    "   ##### a = 0.05"
   ]
  },
  {
   "cell_type": "code",
   "execution_count": 46,
   "metadata": {},
   "outputs": [],
   "source": [
    "#Create the seg variable in the daily data\n",
    "us_CDC['Seg'] = 4\n",
    "us_CDC.loc[(us_CDC['week_num'] >=23) & (us_CDC['week_num'] <= 29), 'Seg'] = 3\n",
    "us_CDC.loc[(us_CDC['week_num'] >=14) & (us_CDC['week_num'] <= 23), 'Seg'] = 2\n",
    "us_CDC.loc[(us_CDC['week_num'] >= 6) & (us_CDC['week_num'] <= 14), 'Seg'] = 1\n",
    "us_CDC.loc[(us_CDC['week_num'] >= 0) & (us_CDC['week_num'] <= 6), 'Seg'] = 0\n",
    "\n",
    "dk_CDC['Seg'] = 4\n",
    "dk_CDC.loc[(dk_CDC['week_num'] >=23) & (dk_CDC['week_num'] <= 29), 'Seg'] = 3\n",
    "dk_CDC.loc[(dk_CDC['week_num'] >=14) & (dk_CDC['week_num'] <= 23), 'Seg'] = 2\n",
    "dk_CDC.loc[(dk_CDC['week_num'] >= 6) & (dk_CDC['week_num'] <= 14), 'Seg'] = 1\n",
    "dk_CDC.loc[(dk_CDC['week_num'] >= 0) & (dk_CDC['week_num'] <= 6), 'Seg'] = 0"
   ]
  },
  {
   "cell_type": "code",
   "execution_count": 47,
   "metadata": {},
   "outputs": [],
   "source": [
    "#Create individual segment tables from the each country's daily data\n",
    "seg0_US = us_CDC[us_CDC['Seg'] == 0]\n",
    "seg0_US = seg0_US.fillna(0)\n",
    "seg1_US = us_CDC[us_CDC['Seg'] == 1]\n",
    "seg1_US = seg1_US.fillna(0)\n",
    "seg2_US = us_CDC[us_CDC['Seg'] == 2]\n",
    "seg2_US = seg2_US.fillna(0)\n",
    "seg3_US = us_CDC[us_CDC['Seg'] == 3]\n",
    "seg3_US = seg3_US.fillna(0)\n",
    "seg4_US = us_CDC[us_CDC['Seg'] == 4]\n",
    "seg4_US = seg4_US.fillna(0)\n",
    "\n",
    "seg0_DK = dk_CDC[dk_CDC['Seg'] == 0]\n",
    "seg0_DK = seg0_DK.fillna(0)\n",
    "seg1_DK = dk_CDC[dk_CDC['Seg'] == 1]\n",
    "seg1_DK = seg1_DK.fillna(0)\n",
    "seg2_DK = dk_CDC[dk_CDC['Seg'] == 2]\n",
    "seg2_DK = seg2_DK.fillna(0)\n",
    "seg3_DK = dk_CDC[dk_CDC['Seg'] == 3]\n",
    "seg3_DK = seg3_DK.fillna(0)\n",
    "seg4_DK = dk_CDC[dk_CDC['Seg'] == 4]\n",
    "seg4_DK = seg4_DK.fillna(0)"
   ]
  },
  {
   "cell_type": "markdown",
   "metadata": {},
   "source": [
    "#### Is there a statistically significant difference between the mean % of new cases in the US compared to DK in each individal segment?"
   ]
  },
  {
   "cell_type": "code",
   "execution_count": 48,
   "metadata": {},
   "outputs": [
    {
     "name": "stdout",
     "output_type": "stream",
     "text": [
      "SEG0\n",
      "US:  0.0 DK:  0.0\n",
      "p value:  0.01056\n",
      "significant difference\n",
      "SEG1\n",
      "US:  0.00169 DK:  0.00125\n",
      "p value:  0.33116\n",
      "no significant difference\n",
      "SEG2\n",
      "US:  0.00776 DK:  0.00215\n",
      "p value:  0.0\n",
      "significant difference\n",
      "SEG3\n",
      "US:  0.01296 DK:  0.00051\n",
      "p value:  0.0\n",
      "significant differenece\n",
      "SEG4\n",
      "US:  0.01615 DK:  0.00141\n",
      "p value:  0.0\n",
      "significant difference\n"
     ]
    }
   ],
   "source": [
    "print('SEG0')\n",
    "print('US: ', round(np.mean(seg0_US['%NewCases']),5), 'DK: ', round(np.mean(seg0_DK['%NewCases']),5))\n",
    "print('p value: ', round(stats.ttest_ind(seg0_US['%NewCases'],seg0_DK['%NewCases']).pvalue,5))\n",
    "print('significant difference')\n",
    "print('SEG1')\n",
    "print('US: ', round(np.mean(seg1_US['%NewCases']),5), 'DK: ', round(np.mean(seg1_DK['%NewCases']),5))\n",
    "print('p value: ', round(stats.ttest_ind(seg1_US['%NewCases'],seg1_DK['%NewCases']).pvalue,5))\n",
    "print('no significant difference')\n",
    "print('SEG2')\n",
    "print('US: ', round(np.mean(seg2_US['%NewCases']),5), 'DK: ', round(np.mean(seg2_DK['%NewCases']),5))\n",
    "print('p value: ', round(stats.ttest_ind(seg2_US['%NewCases'],seg2_DK['%NewCases']).pvalue,5))\n",
    "print('significant difference')\n",
    "print('SEG3')\n",
    "print('US: ', round(np.mean(seg3_US['%NewCases']),5), 'DK: ', round(np.mean(seg3_DK['%NewCases']),5))\n",
    "print('p value: ', round(stats.ttest_ind(seg3_US['%NewCases'],seg3_DK['%NewCases']).pvalue,5))\n",
    "print('significant differenece')\n",
    "print('SEG4')\n",
    "print('US: ', round(np.mean(seg4_US['%NewCases']),5), 'DK: ', round(np.mean(seg4_DK['%NewCases']),5))\n",
    "print('p value: ', round(stats.ttest_ind(seg4_US['%NewCases'],seg4_DK['%NewCases']).pvalue,5))\n",
    "print('significant difference')"
   ]
  },
  {
   "cell_type": "markdown",
   "metadata": {},
   "source": [
    "#### Is there a statistically significant difference between the mean death rate in the US compared to DK in each individal segment?"
   ]
  },
  {
   "cell_type": "code",
   "execution_count": 49,
   "metadata": {},
   "outputs": [
    {
     "name": "stdout",
     "output_type": "stream",
     "text": [
      "SEG0\n",
      "US:  0.0 DK:  0.0\n",
      "p value:  nan\n",
      "no significant difference\n",
      "SEG1\n",
      "US:  2.686 DK:  1.751\n",
      "p value:  0.30046\n",
      "no significant difference\n",
      "SEG2\n",
      "US:  6.217 DK:  5.314\n",
      "p value:  0.0524\n",
      "no significant difference\n",
      "SEG3\n",
      "US:  1.978 DK:  2.181\n",
      "p value:  0.81531\n",
      "no significant difference\n",
      "SEG4\n",
      "US:  1.884 DK:  0.281\n",
      "p value:  4.372151244640098e-19\n",
      "significant difference\n"
     ]
    }
   ],
   "source": [
    "print('SEG0')\n",
    "print('US: ', round(np.mean(seg0_US['Death_Rate']),3), 'DK: ', round(np.mean(seg0_DK['Death_Rate']),3))\n",
    "print('p value: ',round(stats.ttest_ind(seg0_US['Death_Rate'],seg0_DK['Death_Rate']).pvalue,5))\n",
    "print('no significant difference')\n",
    "print('SEG1')\n",
    "print('US: ', round(np.mean(seg1_US['Death_Rate']),3), 'DK: ', round(np.mean(seg1_DK['Death_Rate']),3))\n",
    "print('p value: ',round(stats.ttest_ind(seg1_US['Death_Rate'],seg1_DK['Death_Rate']).pvalue,5))\n",
    "print('no significant difference')\n",
    "print('SEG2')\n",
    "print('US: ', round(np.mean(seg2_US['Death_Rate']),3), 'DK: ', round(np.mean(seg2_DK['Death_Rate']),3))\n",
    "print('p value: ',round(stats.ttest_ind(seg2_US['Death_Rate'],seg2_DK['Death_Rate']).pvalue,5))\n",
    "print('no significant difference')\n",
    "print('SEG3')\n",
    "print('US: ', round(np.mean(seg3_US['Death_Rate']),3), 'DK: ', round(np.mean(seg3_DK['Death_Rate']),3))\n",
    "print('p value: ',round(stats.ttest_ind(seg3_US['Death_Rate'],seg3_DK['Death_Rate']).pvalue,5))\n",
    "print('no significant difference')\n",
    "print('SEG4')\n",
    "print('US: ', round(np.mean(seg4_US['Death_Rate']),3), 'DK: ', round(np.mean(seg4_DK['Death_Rate']),3))\n",
    "print('p value: ',stats.ttest_ind(seg4_US['Death_Rate'],seg4_DK['Death_Rate']).pvalue)\n",
    "print('significant difference')"
   ]
  }
 ],
 "metadata": {
  "kernelspec": {
   "display_name": "Python 3",
   "language": "python",
   "name": "python3"
  },
  "language_info": {
   "codemirror_mode": {
    "name": "ipython",
    "version": 3
   },
   "file_extension": ".py",
   "mimetype": "text/x-python",
   "name": "python",
   "nbconvert_exporter": "python",
   "pygments_lexer": "ipython3",
   "version": "3.7.1"
  }
 },
 "nbformat": 4,
 "nbformat_minor": 2
}
